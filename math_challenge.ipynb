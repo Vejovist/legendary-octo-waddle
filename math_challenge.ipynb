{
 "cells": [
  {
   "cell_type": "markdown",
   "source": [
    "# Find $x$, $y$, and $z$ such that $x^3+y^3+z^3=k$, for each $k$ from 1 to 100."
   ],
   "metadata": {}
  },
  {
   "cell_type": "code",
   "execution_count": 2,
   "source": [
    "# Import list\n",
    "from IPython.display import display, Math\n",
    "from random import *\n",
    "import sympy as sym"
   ],
   "outputs": [],
   "metadata": {}
  },
  {
   "cell_type": "markdown",
   "source": [
    "## Reminder: $x^3 + y^3 + z^3 - k = 0$"
   ],
   "metadata": {}
  },
  {
   "cell_type": "code",
   "execution_count": 7,
   "source": [
    "# Set precision\n",
    "%precision %.4f\n",
    "\n",
    "# Declare the symbols\n",
    "x, y, z, k = sym.symbols('x, y, z, k')\n",
    "\n",
    "# Set the expression\n",
    "expr = x ** 3 + y ** 3 + z ** 3 - k"
   ],
   "outputs": [],
   "metadata": {}
  },
  {
   "cell_type": "code",
   "execution_count": 14,
   "source": [
    "# For loop (through values of k)\n",
    "for kval in range(1, 101):\n",
    "    # Set random values for x and y\n",
    "    xval = random() * 10 ** randint(-3, 3)\n",
    "    yval = random() * 10 ** randint(-3, 3)\n",
    "\n",
    "    # Substitute in x, y, and k\n",
    "    new_expr = expr.subs({x: xval, y: yval, k: kval})\n",
    "\n",
    "    # Solve for z\n",
    "    zval = sym.solve(new_expr, z)\n",
    "\n",
    "    # There may be more than one answer to z\n",
    "    for sol in range(len(zval)):\n",
    "        # Set it to latex\n",
    "        lzval = sym.latex(zval[sol])\n",
    "\n",
    "        # Display the final equation\n",
    "        display(Math('{%s} ^ 3 + {%s} ^ 3 + ({%s}) ^ 3 = %s' %(xval, yval, lzval, kval)))\n",
    "        \n",
    "        # Displaying word 'or' in between possible solutions\n",
    "        if sol != len(zval) - 1:\n",
    "            display(Math('\\\\text{or}'))\n",
    "            pass\n",
    "        pass\n",
    "\n",
    "    # Formatting\n",
    "    if kval != 100:\n",
    "        display(Math('\\\\text{-----}'))\n",
    "        pass"
   ],
   "outputs": [
    {
     "output_type": "display_data",
     "data": {
      "text/plain": [
       "<IPython.core.display.Math object>"
      ],
      "text/latex": [
       "$\\displaystyle {3.199843413229291} ^ 3 + {0.8367002477291615} ^ 3 + ({-3.18630003691316}) ^ 3 = 1$"
      ]
     },
     "metadata": {}
    },
    {
     "output_type": "display_data",
     "data": {
      "text/plain": [
       "<IPython.core.display.Math object>"
      ],
      "text/latex": [
       "$\\displaystyle \\text{or}$"
      ]
     },
     "metadata": {}
    },
    {
     "output_type": "display_data",
     "data": {
      "text/plain": [
       "<IPython.core.display.Math object>"
      ],
      "text/latex": [
       "$\\displaystyle {3.199843413229291} ^ 3 + {0.8367002477291615} ^ 3 + ({1.59315001845658 - 2.75941677604609 i}) ^ 3 = 1$"
      ]
     },
     "metadata": {}
    },
    {
     "output_type": "display_data",
     "data": {
      "text/plain": [
       "<IPython.core.display.Math object>"
      ],
      "text/latex": [
       "$\\displaystyle \\text{or}$"
      ]
     },
     "metadata": {}
    },
    {
     "output_type": "display_data",
     "data": {
      "text/plain": [
       "<IPython.core.display.Math object>"
      ],
      "text/latex": [
       "$\\displaystyle {3.199843413229291} ^ 3 + {0.8367002477291615} ^ 3 + ({1.59315001845658 + 2.75941677604609 i}) ^ 3 = 1$"
      ]
     },
     "metadata": {}
    },
    {
     "output_type": "display_data",
     "data": {
      "text/plain": [
       "<IPython.core.display.Math object>"
      ],
      "text/latex": [
       "$\\displaystyle \\text{-----}$"
      ]
     },
     "metadata": {}
    },
    {
     "output_type": "display_data",
     "data": {
      "text/plain": [
       "<IPython.core.display.Math object>"
      ],
      "text/latex": [
       "$\\displaystyle {9.300230703119675} ^ 3 + {0.009197746905006183} ^ 3 + ({-9.29251667173458}) ^ 3 = 2$"
      ]
     },
     "metadata": {}
    },
    {
     "output_type": "display_data",
     "data": {
      "text/plain": [
       "<IPython.core.display.Math object>"
      ],
      "text/latex": [
       "$\\displaystyle \\text{or}$"
      ]
     },
     "metadata": {}
    },
    {
     "output_type": "display_data",
     "data": {
      "text/plain": [
       "<IPython.core.display.Math object>"
      ],
      "text/latex": [
       "$\\displaystyle {9.300230703119675} ^ 3 + {0.009197746905006183} ^ 3 + ({4.64625833586729 - 8.04755550281257 i}) ^ 3 = 2$"
      ]
     },
     "metadata": {}
    },
    {
     "output_type": "display_data",
     "data": {
      "text/plain": [
       "<IPython.core.display.Math object>"
      ],
      "text/latex": [
       "$\\displaystyle \\text{or}$"
      ]
     },
     "metadata": {}
    },
    {
     "output_type": "display_data",
     "data": {
      "text/plain": [
       "<IPython.core.display.Math object>"
      ],
      "text/latex": [
       "$\\displaystyle {9.300230703119675} ^ 3 + {0.009197746905006183} ^ 3 + ({4.64625833586729 + 8.04755550281257 i}) ^ 3 = 2$"
      ]
     },
     "metadata": {}
    },
    {
     "output_type": "display_data",
     "data": {
      "text/plain": [
       "<IPython.core.display.Math object>"
      ],
      "text/latex": [
       "$\\displaystyle \\text{-----}$"
      ]
     },
     "metadata": {}
    },
    {
     "output_type": "display_data",
     "data": {
      "text/plain": [
       "<IPython.core.display.Math object>"
      ],
      "text/latex": [
       "$\\displaystyle {0.00017329896856714257} ^ 3 + {34.99518799800394} ^ 3 + ({-34.9943714279069}) ^ 3 = 3$"
      ]
     },
     "metadata": {}
    },
    {
     "output_type": "display_data",
     "data": {
      "text/plain": [
       "<IPython.core.display.Math object>"
      ],
      "text/latex": [
       "$\\displaystyle \\text{or}$"
      ]
     },
     "metadata": {}
    },
    {
     "output_type": "display_data",
     "data": {
      "text/plain": [
       "<IPython.core.display.Math object>"
      ],
      "text/latex": [
       "$\\displaystyle {0.00017329896856714257} ^ 3 + {34.99518799800394} ^ 3 + ({17.4971857139535 - 30.3060146460357 i}) ^ 3 = 3$"
      ]
     },
     "metadata": {}
    },
    {
     "output_type": "display_data",
     "data": {
      "text/plain": [
       "<IPython.core.display.Math object>"
      ],
      "text/latex": [
       "$\\displaystyle \\text{or}$"
      ]
     },
     "metadata": {}
    },
    {
     "output_type": "display_data",
     "data": {
      "text/plain": [
       "<IPython.core.display.Math object>"
      ],
      "text/latex": [
       "$\\displaystyle {0.00017329896856714257} ^ 3 + {34.99518799800394} ^ 3 + ({17.4971857139535 + 30.3060146460357 i}) ^ 3 = 3$"
      ]
     },
     "metadata": {}
    },
    {
     "output_type": "display_data",
     "data": {
      "text/plain": [
       "<IPython.core.display.Math object>"
      ],
      "text/latex": [
       "$\\displaystyle \\text{-----}$"
      ]
     },
     "metadata": {}
    },
    {
     "output_type": "display_data",
     "data": {
      "text/plain": [
       "<IPython.core.display.Math object>"
      ],
      "text/latex": [
       "$\\displaystyle {0.9109014220751138} ^ 3 + {0.0003314977263021961} ^ 3 + ({1.48036443698751}) ^ 3 = 4$"
      ]
     },
     "metadata": {}
    },
    {
     "output_type": "display_data",
     "data": {
      "text/plain": [
       "<IPython.core.display.Math object>"
      ],
      "text/latex": [
       "$\\displaystyle \\text{or}$"
      ]
     },
     "metadata": {}
    },
    {
     "output_type": "display_data",
     "data": {
      "text/plain": [
       "<IPython.core.display.Math object>"
      ],
      "text/latex": [
       "$\\displaystyle {0.9109014220751138} ^ 3 + {0.0003314977263021961} ^ 3 + ({-0.740182218493756 - 1.28203320929023 i}) ^ 3 = 4$"
      ]
     },
     "metadata": {}
    },
    {
     "output_type": "display_data",
     "data": {
      "text/plain": [
       "<IPython.core.display.Math object>"
      ],
      "text/latex": [
       "$\\displaystyle \\text{or}$"
      ]
     },
     "metadata": {}
    },
    {
     "output_type": "display_data",
     "data": {
      "text/plain": [
       "<IPython.core.display.Math object>"
      ],
      "text/latex": [
       "$\\displaystyle {0.9109014220751138} ^ 3 + {0.0003314977263021961} ^ 3 + ({-0.740182218493756 + 1.28203320929023 i}) ^ 3 = 4$"
      ]
     },
     "metadata": {}
    },
    {
     "output_type": "display_data",
     "data": {
      "text/plain": [
       "<IPython.core.display.Math object>"
      ],
      "text/latex": [
       "$\\displaystyle \\text{-----}$"
      ]
     },
     "metadata": {}
    },
    {
     "output_type": "display_data",
     "data": {
      "text/plain": [
       "<IPython.core.display.Math object>"
      ],
      "text/latex": [
       "$\\displaystyle {0.0004642270972293905} ^ 3 + {0.0005156163431819267} ^ 3 + ({1.7099759466767}) ^ 3 = 5$"
      ]
     },
     "metadata": {}
    },
    {
     "output_type": "display_data",
     "data": {
      "text/plain": [
       "<IPython.core.display.Math object>"
      ],
      "text/latex": [
       "$\\displaystyle \\text{or}$"
      ]
     },
     "metadata": {}
    },
    {
     "output_type": "display_data",
     "data": {
      "text/plain": [
       "<IPython.core.display.Math object>"
      ],
      "text/latex": [
       "$\\displaystyle {0.0004642270972293905} ^ 3 + {0.0005156163431819267} ^ 3 + ({-0.854987973338349 - 1.48088260968236 i}) ^ 3 = 5$"
      ]
     },
     "metadata": {}
    },
    {
     "output_type": "display_data",
     "data": {
      "text/plain": [
       "<IPython.core.display.Math object>"
      ],
      "text/latex": [
       "$\\displaystyle \\text{or}$"
      ]
     },
     "metadata": {}
    },
    {
     "output_type": "display_data",
     "data": {
      "text/plain": [
       "<IPython.core.display.Math object>"
      ],
      "text/latex": [
       "$\\displaystyle {0.0004642270972293905} ^ 3 + {0.0005156163431819267} ^ 3 + ({-0.854987973338349 + 1.48088260968236 i}) ^ 3 = 5$"
      ]
     },
     "metadata": {}
    },
    {
     "output_type": "display_data",
     "data": {
      "text/plain": [
       "<IPython.core.display.Math object>"
      ],
      "text/latex": [
       "$\\displaystyle \\text{-----}$"
      ]
     },
     "metadata": {}
    },
    {
     "output_type": "display_data",
     "data": {
      "text/plain": [
       "<IPython.core.display.Math object>"
      ],
      "text/latex": [
       "$\\displaystyle {0.0009871948640256761} ^ 3 + {188.5687265186291} ^ 3 + ({-188.56867027274}) ^ 3 = 6$"
      ]
     },
     "metadata": {}
    },
    {
     "output_type": "display_data",
     "data": {
      "text/plain": [
       "<IPython.core.display.Math object>"
      ],
      "text/latex": [
       "$\\displaystyle \\text{or}$"
      ]
     },
     "metadata": {}
    },
    {
     "output_type": "display_data",
     "data": {
      "text/plain": [
       "<IPython.core.display.Math object>"
      ],
      "text/latex": [
       "$\\displaystyle {0.0009871948640256761} ^ 3 + {188.5687265186291} ^ 3 + ({94.2843351363698 - 163.305258814044 i}) ^ 3 = 6$"
      ]
     },
     "metadata": {}
    },
    {
     "output_type": "display_data",
     "data": {
      "text/plain": [
       "<IPython.core.display.Math object>"
      ],
      "text/latex": [
       "$\\displaystyle \\text{or}$"
      ]
     },
     "metadata": {}
    },
    {
     "output_type": "display_data",
     "data": {
      "text/plain": [
       "<IPython.core.display.Math object>"
      ],
      "text/latex": [
       "$\\displaystyle {0.0009871948640256761} ^ 3 + {188.5687265186291} ^ 3 + ({94.2843351363698 + 163.305258814044 i}) ^ 3 = 6$"
      ]
     },
     "metadata": {}
    },
    {
     "output_type": "display_data",
     "data": {
      "text/plain": [
       "<IPython.core.display.Math object>"
      ],
      "text/latex": [
       "$\\displaystyle \\text{-----}$"
      ]
     },
     "metadata": {}
    },
    {
     "output_type": "display_data",
     "data": {
      "text/plain": [
       "<IPython.core.display.Math object>"
      ],
      "text/latex": [
       "$\\displaystyle {1.7378296368433865} ^ 3 + {0.0009543623687683005} ^ 3 + ({1.20545305189962}) ^ 3 = 7$"
      ]
     },
     "metadata": {}
    },
    {
     "output_type": "display_data",
     "data": {
      "text/plain": [
       "<IPython.core.display.Math object>"
      ],
      "text/latex": [
       "$\\displaystyle \\text{or}$"
      ]
     },
     "metadata": {}
    },
    {
     "output_type": "display_data",
     "data": {
      "text/plain": [
       "<IPython.core.display.Math object>"
      ],
      "text/latex": [
       "$\\displaystyle {1.7378296368433865} ^ 3 + {0.0009543623687683005} ^ 3 + ({-0.602726525949811 - 1.04395296601455 i}) ^ 3 = 7$"
      ]
     },
     "metadata": {}
    },
    {
     "output_type": "display_data",
     "data": {
      "text/plain": [
       "<IPython.core.display.Math object>"
      ],
      "text/latex": [
       "$\\displaystyle \\text{or}$"
      ]
     },
     "metadata": {}
    },
    {
     "output_type": "display_data",
     "data": {
      "text/plain": [
       "<IPython.core.display.Math object>"
      ],
      "text/latex": [
       "$\\displaystyle {1.7378296368433865} ^ 3 + {0.0009543623687683005} ^ 3 + ({-0.602726525949811 + 1.04395296601455 i}) ^ 3 = 7$"
      ]
     },
     "metadata": {}
    },
    {
     "output_type": "display_data",
     "data": {
      "text/plain": [
       "<IPython.core.display.Math object>"
      ],
      "text/latex": [
       "$\\displaystyle \\text{-----}$"
      ]
     },
     "metadata": {}
    },
    {
     "output_type": "display_data",
     "data": {
      "text/plain": [
       "<IPython.core.display.Math object>"
      ],
      "text/latex": [
       "$\\displaystyle {0.06904026449819689} ^ 3 + {0.09506158570512624} ^ 3 + ({1.99990098443574}) ^ 3 = 8$"
      ]
     },
     "metadata": {}
    },
    {
     "output_type": "display_data",
     "data": {
      "text/plain": [
       "<IPython.core.display.Math object>"
      ],
      "text/latex": [
       "$\\displaystyle \\text{or}$"
      ]
     },
     "metadata": {}
    },
    {
     "output_type": "display_data",
     "data": {
      "text/plain": [
       "<IPython.core.display.Math object>"
      ],
      "text/latex": [
       "$\\displaystyle {0.06904026449819689} ^ 3 + {0.09506158570512624} ^ 3 + ({-0.999950492217868 - 1.73196505757486 i}) ^ 3 = 8$"
      ]
     },
     "metadata": {}
    },
    {
     "output_type": "display_data",
     "data": {
      "text/plain": [
       "<IPython.core.display.Math object>"
      ],
      "text/latex": [
       "$\\displaystyle \\text{or}$"
      ]
     },
     "metadata": {}
    },
    {
     "output_type": "display_data",
     "data": {
      "text/plain": [
       "<IPython.core.display.Math object>"
      ],
      "text/latex": [
       "$\\displaystyle {0.06904026449819689} ^ 3 + {0.09506158570512624} ^ 3 + ({-0.999950492217868 + 1.73196505757486 i}) ^ 3 = 8$"
      ]
     },
     "metadata": {}
    },
    {
     "output_type": "display_data",
     "data": {
      "text/plain": [
       "<IPython.core.display.Math object>"
      ],
      "text/latex": [
       "$\\displaystyle \\text{-----}$"
      ]
     },
     "metadata": {}
    },
    {
     "output_type": "display_data",
     "data": {
      "text/plain": [
       "<IPython.core.display.Math object>"
      ],
      "text/latex": [
       "$\\displaystyle {0.05258190564341092} ^ 3 + {26.89712586462032} ^ 3 + ({-26.8929785263859}) ^ 3 = 9$"
      ]
     },
     "metadata": {}
    },
    {
     "output_type": "display_data",
     "data": {
      "text/plain": [
       "<IPython.core.display.Math object>"
      ],
      "text/latex": [
       "$\\displaystyle \\text{or}$"
      ]
     },
     "metadata": {}
    },
    {
     "output_type": "display_data",
     "data": {
      "text/plain": [
       "<IPython.core.display.Math object>"
      ],
      "text/latex": [
       "$\\displaystyle {0.05258190564341092} ^ 3 + {26.89712586462032} ^ 3 + ({13.4464892631929 - 23.2900025872796 i}) ^ 3 = 9$"
      ]
     },
     "metadata": {}
    },
    {
     "output_type": "display_data",
     "data": {
      "text/plain": [
       "<IPython.core.display.Math object>"
      ],
      "text/latex": [
       "$\\displaystyle \\text{or}$"
      ]
     },
     "metadata": {}
    },
    {
     "output_type": "display_data",
     "data": {
      "text/plain": [
       "<IPython.core.display.Math object>"
      ],
      "text/latex": [
       "$\\displaystyle {0.05258190564341092} ^ 3 + {26.89712586462032} ^ 3 + ({13.4464892631929 + 23.2900025872796 i}) ^ 3 = 9$"
      ]
     },
     "metadata": {}
    },
    {
     "output_type": "display_data",
     "data": {
      "text/plain": [
       "<IPython.core.display.Math object>"
      ],
      "text/latex": [
       "$\\displaystyle \\text{-----}$"
      ]
     },
     "metadata": {}
    },
    {
     "output_type": "display_data",
     "data": {
      "text/plain": [
       "<IPython.core.display.Math object>"
      ],
      "text/latex": [
       "$\\displaystyle {37.57639790427814} ^ 3 + {0.0006300606721470337} ^ 3 + ({-37.5740370143479}) ^ 3 = 10$"
      ]
     },
     "metadata": {}
    },
    {
     "output_type": "display_data",
     "data": {
      "text/plain": [
       "<IPython.core.display.Math object>"
      ],
      "text/latex": [
       "$\\displaystyle \\text{or}$"
      ]
     },
     "metadata": {}
    },
    {
     "output_type": "display_data",
     "data": {
      "text/plain": [
       "<IPython.core.display.Math object>"
      ],
      "text/latex": [
       "$\\displaystyle {37.57639790427814} ^ 3 + {0.0006300606721470337} ^ 3 + ({18.787018507174 - 32.5400705771621 i}) ^ 3 = 10$"
      ]
     },
     "metadata": {}
    },
    {
     "output_type": "display_data",
     "data": {
      "text/plain": [
       "<IPython.core.display.Math object>"
      ],
      "text/latex": [
       "$\\displaystyle \\text{or}$"
      ]
     },
     "metadata": {}
    },
    {
     "output_type": "display_data",
     "data": {
      "text/plain": [
       "<IPython.core.display.Math object>"
      ],
      "text/latex": [
       "$\\displaystyle {37.57639790427814} ^ 3 + {0.0006300606721470337} ^ 3 + ({18.787018507174 + 32.5400705771621 i}) ^ 3 = 10$"
      ]
     },
     "metadata": {}
    },
    {
     "output_type": "display_data",
     "data": {
      "text/plain": [
       "<IPython.core.display.Math object>"
      ],
      "text/latex": [
       "$\\displaystyle \\text{-----}$"
      ]
     },
     "metadata": {}
    },
    {
     "output_type": "display_data",
     "data": {
      "text/plain": [
       "<IPython.core.display.Math object>"
      ],
      "text/latex": [
       "$\\displaystyle {0.09736782659941362} ^ 3 + {9.724336945094748} ^ 3 + ({-9.68540961088308}) ^ 3 = 11$"
      ]
     },
     "metadata": {}
    },
    {
     "output_type": "display_data",
     "data": {
      "text/plain": [
       "<IPython.core.display.Math object>"
      ],
      "text/latex": [
       "$\\displaystyle \\text{or}$"
      ]
     },
     "metadata": {}
    },
    {
     "output_type": "display_data",
     "data": {
      "text/plain": [
       "<IPython.core.display.Math object>"
      ],
      "text/latex": [
       "$\\displaystyle {0.09736782659941362} ^ 3 + {9.724336945094748} ^ 3 + ({4.84270480544154 - 8.3878107690827 i}) ^ 3 = 11$"
      ]
     },
     "metadata": {}
    },
    {
     "output_type": "display_data",
     "data": {
      "text/plain": [
       "<IPython.core.display.Math object>"
      ],
      "text/latex": [
       "$\\displaystyle \\text{or}$"
      ]
     },
     "metadata": {}
    },
    {
     "output_type": "display_data",
     "data": {
      "text/plain": [
       "<IPython.core.display.Math object>"
      ],
      "text/latex": [
       "$\\displaystyle {0.09736782659941362} ^ 3 + {9.724336945094748} ^ 3 + ({4.84270480544154 + 8.3878107690827 i}) ^ 3 = 11$"
      ]
     },
     "metadata": {}
    },
    {
     "output_type": "display_data",
     "data": {
      "text/plain": [
       "<IPython.core.display.Math object>"
      ],
      "text/latex": [
       "$\\displaystyle \\text{-----}$"
      ]
     },
     "metadata": {}
    },
    {
     "output_type": "display_data",
     "data": {
      "text/plain": [
       "<IPython.core.display.Math object>"
      ],
      "text/latex": [
       "$\\displaystyle {0.005891828204599225} ^ 3 + {4.089168024956447e-05} ^ 3 + ({2.28942848510666}) ^ 3 = 12$"
      ]
     },
     "metadata": {}
    },
    {
     "output_type": "display_data",
     "data": {
      "text/plain": [
       "<IPython.core.display.Math object>"
      ],
      "text/latex": [
       "$\\displaystyle \\text{or}$"
      ]
     },
     "metadata": {}
    },
    {
     "output_type": "display_data",
     "data": {
      "text/plain": [
       "<IPython.core.display.Math object>"
      ],
      "text/latex": [
       "$\\displaystyle {0.005891828204599225} ^ 3 + {4.089168024956447e-05} ^ 3 + ({-1.14471424255333 - 1.98270322825009 i}) ^ 3 = 12$"
      ]
     },
     "metadata": {}
    },
    {
     "output_type": "display_data",
     "data": {
      "text/plain": [
       "<IPython.core.display.Math object>"
      ],
      "text/latex": [
       "$\\displaystyle \\text{or}$"
      ]
     },
     "metadata": {}
    },
    {
     "output_type": "display_data",
     "data": {
      "text/plain": [
       "<IPython.core.display.Math object>"
      ],
      "text/latex": [
       "$\\displaystyle {0.005891828204599225} ^ 3 + {4.089168024956447e-05} ^ 3 + ({-1.14471424255333 + 1.98270322825009 i}) ^ 3 = 12$"
      ]
     },
     "metadata": {}
    },
    {
     "output_type": "display_data",
     "data": {
      "text/plain": [
       "<IPython.core.display.Math object>"
      ],
      "text/latex": [
       "$\\displaystyle \\text{-----}$"
      ]
     },
     "metadata": {}
    },
    {
     "output_type": "display_data",
     "data": {
      "text/plain": [
       "<IPython.core.display.Math object>"
      ],
      "text/latex": [
       "$\\displaystyle {149.61604447215836} ^ 3 + {9.309248588258631} ^ 3 + ({-149.627863365913}) ^ 3 = 13$"
      ]
     },
     "metadata": {}
    },
    {
     "output_type": "display_data",
     "data": {
      "text/plain": [
       "<IPython.core.display.Math object>"
      ],
      "text/latex": [
       "$\\displaystyle \\text{or}$"
      ]
     },
     "metadata": {}
    },
    {
     "output_type": "display_data",
     "data": {
      "text/plain": [
       "<IPython.core.display.Math object>"
      ],
      "text/latex": [
       "$\\displaystyle {149.61604447215836} ^ 3 + {9.309248588258631} ^ 3 + ({74.8139316829564 - 129.581530788868 i}) ^ 3 = 13$"
      ]
     },
     "metadata": {}
    },
    {
     "output_type": "display_data",
     "data": {
      "text/plain": [
       "<IPython.core.display.Math object>"
      ],
      "text/latex": [
       "$\\displaystyle \\text{or}$"
      ]
     },
     "metadata": {}
    },
    {
     "output_type": "display_data",
     "data": {
      "text/plain": [
       "<IPython.core.display.Math object>"
      ],
      "text/latex": [
       "$\\displaystyle {149.61604447215836} ^ 3 + {9.309248588258631} ^ 3 + ({74.8139316829564 + 129.581530788868 i}) ^ 3 = 13$"
      ]
     },
     "metadata": {}
    },
    {
     "output_type": "display_data",
     "data": {
      "text/plain": [
       "<IPython.core.display.Math object>"
      ],
      "text/latex": [
       "$\\displaystyle \\text{-----}$"
      ]
     },
     "metadata": {}
    },
    {
     "output_type": "display_data",
     "data": {
      "text/plain": [
       "<IPython.core.display.Math object>"
      ],
      "text/latex": [
       "$\\displaystyle {0.06353896984945599} ^ 3 + {69.46861786012848} ^ 3 + ({-69.467650857728}) ^ 3 = 14$"
      ]
     },
     "metadata": {}
    },
    {
     "output_type": "display_data",
     "data": {
      "text/plain": [
       "<IPython.core.display.Math object>"
      ],
      "text/latex": [
       "$\\displaystyle \\text{or}$"
      ]
     },
     "metadata": {}
    },
    {
     "output_type": "display_data",
     "data": {
      "text/plain": [
       "<IPython.core.display.Math object>"
      ],
      "text/latex": [
       "$\\displaystyle {0.06353896984945599} ^ 3 + {69.46861786012848} ^ 3 + ({34.733825428864 - 60.1607503840203 i}) ^ 3 = 14$"
      ]
     },
     "metadata": {}
    },
    {
     "output_type": "display_data",
     "data": {
      "text/plain": [
       "<IPython.core.display.Math object>"
      ],
      "text/latex": [
       "$\\displaystyle \\text{or}$"
      ]
     },
     "metadata": {}
    },
    {
     "output_type": "display_data",
     "data": {
      "text/plain": [
       "<IPython.core.display.Math object>"
      ],
      "text/latex": [
       "$\\displaystyle {0.06353896984945599} ^ 3 + {69.46861786012848} ^ 3 + ({34.733825428864 + 60.1607503840203 i}) ^ 3 = 14$"
      ]
     },
     "metadata": {}
    },
    {
     "output_type": "display_data",
     "data": {
      "text/plain": [
       "<IPython.core.display.Math object>"
      ],
      "text/latex": [
       "$\\displaystyle \\text{-----}$"
      ]
     },
     "metadata": {}
    },
    {
     "output_type": "display_data",
     "data": {
      "text/plain": [
       "<IPython.core.display.Math object>"
      ],
      "text/latex": [
       "$\\displaystyle {0.8891225103429914} ^ 3 + {0.005299895601986331} ^ 3 + ({2.42707274370596}) ^ 3 = 15$"
      ]
     },
     "metadata": {}
    },
    {
     "output_type": "display_data",
     "data": {
      "text/plain": [
       "<IPython.core.display.Math object>"
      ],
      "text/latex": [
       "$\\displaystyle \\text{or}$"
      ]
     },
     "metadata": {}
    },
    {
     "output_type": "display_data",
     "data": {
      "text/plain": [
       "<IPython.core.display.Math object>"
      ],
      "text/latex": [
       "$\\displaystyle {0.8891225103429914} ^ 3 + {0.005299895601986331} ^ 3 + ({-1.21353637185298 - 2.10190665288216 i}) ^ 3 = 15$"
      ]
     },
     "metadata": {}
    },
    {
     "output_type": "display_data",
     "data": {
      "text/plain": [
       "<IPython.core.display.Math object>"
      ],
      "text/latex": [
       "$\\displaystyle \\text{or}$"
      ]
     },
     "metadata": {}
    },
    {
     "output_type": "display_data",
     "data": {
      "text/plain": [
       "<IPython.core.display.Math object>"
      ],
      "text/latex": [
       "$\\displaystyle {0.8891225103429914} ^ 3 + {0.005299895601986331} ^ 3 + ({-1.21353637185298 + 2.10190665288216 i}) ^ 3 = 15$"
      ]
     },
     "metadata": {}
    },
    {
     "output_type": "display_data",
     "data": {
      "text/plain": [
       "<IPython.core.display.Math object>"
      ],
      "text/latex": [
       "$\\displaystyle \\text{-----}$"
      ]
     },
     "metadata": {}
    },
    {
     "output_type": "display_data",
     "data": {
      "text/plain": [
       "<IPython.core.display.Math object>"
      ],
      "text/latex": [
       "$\\displaystyle {8.849118514208886} ^ 3 + {587.9087789195983} ^ 3 + ({-587.909431769069}) ^ 3 = 16$"
      ]
     },
     "metadata": {}
    },
    {
     "output_type": "display_data",
     "data": {
      "text/plain": [
       "<IPython.core.display.Math object>"
      ],
      "text/latex": [
       "$\\displaystyle \\text{or}$"
      ]
     },
     "metadata": {}
    },
    {
     "output_type": "display_data",
     "data": {
      "text/plain": [
       "<IPython.core.display.Math object>"
      ],
      "text/latex": [
       "$\\displaystyle {8.849118514208886} ^ 3 + {587.9087789195983} ^ 3 + ({293.954715884534 - 509.144503036488 i}) ^ 3 = 16$"
      ]
     },
     "metadata": {}
    },
    {
     "output_type": "display_data",
     "data": {
      "text/plain": [
       "<IPython.core.display.Math object>"
      ],
      "text/latex": [
       "$\\displaystyle \\text{or}$"
      ]
     },
     "metadata": {}
    },
    {
     "output_type": "display_data",
     "data": {
      "text/plain": [
       "<IPython.core.display.Math object>"
      ],
      "text/latex": [
       "$\\displaystyle {8.849118514208886} ^ 3 + {587.9087789195983} ^ 3 + ({293.954715884534 + 509.144503036488 i}) ^ 3 = 16$"
      ]
     },
     "metadata": {}
    },
    {
     "output_type": "display_data",
     "data": {
      "text/plain": [
       "<IPython.core.display.Math object>"
      ],
      "text/latex": [
       "$\\displaystyle \\text{-----}$"
      ]
     },
     "metadata": {}
    },
    {
     "output_type": "display_data",
     "data": {
      "text/plain": [
       "<IPython.core.display.Math object>"
      ],
      "text/latex": [
       "$\\displaystyle {0.0009013557115147674} ^ 3 + {905.7832214753789} ^ 3 + ({-905.783214568543}) ^ 3 = 17$"
      ]
     },
     "metadata": {}
    },
    {
     "output_type": "display_data",
     "data": {
      "text/plain": [
       "<IPython.core.display.Math object>"
      ],
      "text/latex": [
       "$\\displaystyle \\text{or}$"
      ]
     },
     "metadata": {}
    },
    {
     "output_type": "display_data",
     "data": {
      "text/plain": [
       "<IPython.core.display.Math object>"
      ],
      "text/latex": [
       "$\\displaystyle {0.0009013557115147674} ^ 3 + {905.7832214753789} ^ 3 + ({452.891607284272 - 784.43127413789 i}) ^ 3 = 17$"
      ]
     },
     "metadata": {}
    },
    {
     "output_type": "display_data",
     "data": {
      "text/plain": [
       "<IPython.core.display.Math object>"
      ],
      "text/latex": [
       "$\\displaystyle \\text{or}$"
      ]
     },
     "metadata": {}
    },
    {
     "output_type": "display_data",
     "data": {
      "text/plain": [
       "<IPython.core.display.Math object>"
      ],
      "text/latex": [
       "$\\displaystyle {0.0009013557115147674} ^ 3 + {905.7832214753789} ^ 3 + ({452.891607284272 + 784.43127413789 i}) ^ 3 = 17$"
      ]
     },
     "metadata": {}
    },
    {
     "output_type": "display_data",
     "data": {
      "text/plain": [
       "<IPython.core.display.Math object>"
      ],
      "text/latex": [
       "$\\displaystyle \\text{-----}$"
      ]
     },
     "metadata": {}
    },
    {
     "output_type": "display_data",
     "data": {
      "text/plain": [
       "<IPython.core.display.Math object>"
      ],
      "text/latex": [
       "$\\displaystyle {0.6774693486618777} ^ 3 + {0.050818452862672} ^ 3 + ({2.60555686420115}) ^ 3 = 18$"
      ]
     },
     "metadata": {}
    },
    {
     "output_type": "display_data",
     "data": {
      "text/plain": [
       "<IPython.core.display.Math object>"
      ],
      "text/latex": [
       "$\\displaystyle \\text{or}$"
      ]
     },
     "metadata": {}
    },
    {
     "output_type": "display_data",
     "data": {
      "text/plain": [
       "<IPython.core.display.Math object>"
      ],
      "text/latex": [
       "$\\displaystyle {0.6774693486618777} ^ 3 + {0.050818452862672} ^ 3 + ({-1.30277843210057 - 2.25647843540312 i}) ^ 3 = 18$"
      ]
     },
     "metadata": {}
    },
    {
     "output_type": "display_data",
     "data": {
      "text/plain": [
       "<IPython.core.display.Math object>"
      ],
      "text/latex": [
       "$\\displaystyle \\text{or}$"
      ]
     },
     "metadata": {}
    },
    {
     "output_type": "display_data",
     "data": {
      "text/plain": [
       "<IPython.core.display.Math object>"
      ],
      "text/latex": [
       "$\\displaystyle {0.6774693486618777} ^ 3 + {0.050818452862672} ^ 3 + ({-1.30277843210057 + 2.25647843540312 i}) ^ 3 = 18$"
      ]
     },
     "metadata": {}
    },
    {
     "output_type": "display_data",
     "data": {
      "text/plain": [
       "<IPython.core.display.Math object>"
      ],
      "text/latex": [
       "$\\displaystyle \\text{-----}$"
      ]
     },
     "metadata": {}
    },
    {
     "output_type": "display_data",
     "data": {
      "text/plain": [
       "<IPython.core.display.Math object>"
      ],
      "text/latex": [
       "$\\displaystyle {0.0007963122345732149} ^ 3 + {0.5029579026753024} ^ 3 + ({2.66243207675027}) ^ 3 = 19$"
      ]
     },
     "metadata": {}
    },
    {
     "output_type": "display_data",
     "data": {
      "text/plain": [
       "<IPython.core.display.Math object>"
      ],
      "text/latex": [
       "$\\displaystyle \\text{or}$"
      ]
     },
     "metadata": {}
    },
    {
     "output_type": "display_data",
     "data": {
      "text/plain": [
       "<IPython.core.display.Math object>"
      ],
      "text/latex": [
       "$\\displaystyle {0.0007963122345732149} ^ 3 + {0.5029579026753024} ^ 3 + ({-1.33121603837514 - 2.3057338143163 i}) ^ 3 = 19$"
      ]
     },
     "metadata": {}
    },
    {
     "output_type": "display_data",
     "data": {
      "text/plain": [
       "<IPython.core.display.Math object>"
      ],
      "text/latex": [
       "$\\displaystyle \\text{or}$"
      ]
     },
     "metadata": {}
    },
    {
     "output_type": "display_data",
     "data": {
      "text/plain": [
       "<IPython.core.display.Math object>"
      ],
      "text/latex": [
       "$\\displaystyle {0.0007963122345732149} ^ 3 + {0.5029579026753024} ^ 3 + ({-1.33121603837514 + 2.3057338143163 i}) ^ 3 = 19$"
      ]
     },
     "metadata": {}
    },
    {
     "output_type": "display_data",
     "data": {
      "text/plain": [
       "<IPython.core.display.Math object>"
      ],
      "text/latex": [
       "$\\displaystyle \\text{-----}$"
      ]
     },
     "metadata": {}
    },
    {
     "output_type": "display_data",
     "data": {
      "text/plain": [
       "<IPython.core.display.Math object>"
      ],
      "text/latex": [
       "$\\displaystyle {0.005068152191809874} ^ 3 + {0.768707637398687} ^ 3 + ({2.69371017543094}) ^ 3 = 20$"
      ]
     },
     "metadata": {}
    },
    {
     "output_type": "display_data",
     "data": {
      "text/plain": [
       "<IPython.core.display.Math object>"
      ],
      "text/latex": [
       "$\\displaystyle \\text{or}$"
      ]
     },
     "metadata": {}
    },
    {
     "output_type": "display_data",
     "data": {
      "text/plain": [
       "<IPython.core.display.Math object>"
      ],
      "text/latex": [
       "$\\displaystyle {0.005068152191809874} ^ 3 + {0.768707637398687} ^ 3 + ({-1.34685508771547 - 2.33282144235583 i}) ^ 3 = 20$"
      ]
     },
     "metadata": {}
    },
    {
     "output_type": "display_data",
     "data": {
      "text/plain": [
       "<IPython.core.display.Math object>"
      ],
      "text/latex": [
       "$\\displaystyle \\text{or}$"
      ]
     },
     "metadata": {}
    },
    {
     "output_type": "display_data",
     "data": {
      "text/plain": [
       "<IPython.core.display.Math object>"
      ],
      "text/latex": [
       "$\\displaystyle {0.005068152191809874} ^ 3 + {0.768707637398687} ^ 3 + ({-1.34685508771547 + 2.33282144235583 i}) ^ 3 = 20$"
      ]
     },
     "metadata": {}
    },
    {
     "output_type": "display_data",
     "data": {
      "text/plain": [
       "<IPython.core.display.Math object>"
      ],
      "text/latex": [
       "$\\displaystyle \\text{-----}$"
      ]
     },
     "metadata": {}
    },
    {
     "output_type": "display_data",
     "data": {
      "text/plain": [
       "<IPython.core.display.Math object>"
      ],
      "text/latex": [
       "$\\displaystyle {0.03280444635683322} ^ 3 + {79.12182160262927} ^ 3 + ({-79.1207034247592}) ^ 3 = 21$"
      ]
     },
     "metadata": {}
    },
    {
     "output_type": "display_data",
     "data": {
      "text/plain": [
       "<IPython.core.display.Math object>"
      ],
      "text/latex": [
       "$\\displaystyle \\text{or}$"
      ]
     },
     "metadata": {}
    },
    {
     "output_type": "display_data",
     "data": {
      "text/plain": [
       "<IPython.core.display.Math object>"
      ],
      "text/latex": [
       "$\\displaystyle {0.03280444635683322} ^ 3 + {79.12182160262927} ^ 3 + ({39.5603517123796 - 68.5205391311359 i}) ^ 3 = 21$"
      ]
     },
     "metadata": {}
    },
    {
     "output_type": "display_data",
     "data": {
      "text/plain": [
       "<IPython.core.display.Math object>"
      ],
      "text/latex": [
       "$\\displaystyle \\text{or}$"
      ]
     },
     "metadata": {}
    },
    {
     "output_type": "display_data",
     "data": {
      "text/plain": [
       "<IPython.core.display.Math object>"
      ],
      "text/latex": [
       "$\\displaystyle {0.03280444635683322} ^ 3 + {79.12182160262927} ^ 3 + ({39.5603517123796 + 68.5205391311359 i}) ^ 3 = 21$"
      ]
     },
     "metadata": {}
    },
    {
     "output_type": "display_data",
     "data": {
      "text/plain": [
       "<IPython.core.display.Math object>"
      ],
      "text/latex": [
       "$\\displaystyle \\text{-----}$"
      ]
     },
     "metadata": {}
    },
    {
     "output_type": "display_data",
     "data": {
      "text/plain": [
       "<IPython.core.display.Math object>"
      ],
      "text/latex": [
       "$\\displaystyle {360.043751167775} ^ 3 + {0.006526481646928722} ^ 3 + ({-360.043694597156}) ^ 3 = 22$"
      ]
     },
     "metadata": {}
    },
    {
     "output_type": "display_data",
     "data": {
      "text/plain": [
       "<IPython.core.display.Math object>"
      ],
      "text/latex": [
       "$\\displaystyle \\text{or}$"
      ]
     },
     "metadata": {}
    },
    {
     "output_type": "display_data",
     "data": {
      "text/plain": [
       "<IPython.core.display.Math object>"
      ],
      "text/latex": [
       "$\\displaystyle {360.043751167775} ^ 3 + {0.006526481646928722} ^ 3 + ({180.021847298578 - 311.806985993543 i}) ^ 3 = 22$"
      ]
     },
     "metadata": {}
    },
    {
     "output_type": "display_data",
     "data": {
      "text/plain": [
       "<IPython.core.display.Math object>"
      ],
      "text/latex": [
       "$\\displaystyle \\text{or}$"
      ]
     },
     "metadata": {}
    },
    {
     "output_type": "display_data",
     "data": {
      "text/plain": [
       "<IPython.core.display.Math object>"
      ],
      "text/latex": [
       "$\\displaystyle {360.043751167775} ^ 3 + {0.006526481646928722} ^ 3 + ({180.021847298578 + 311.806985993543 i}) ^ 3 = 22$"
      ]
     },
     "metadata": {}
    },
    {
     "output_type": "display_data",
     "data": {
      "text/plain": [
       "<IPython.core.display.Math object>"
      ],
      "text/latex": [
       "$\\displaystyle \\text{-----}$"
      ]
     },
     "metadata": {}
    },
    {
     "output_type": "display_data",
     "data": {
      "text/plain": [
       "<IPython.core.display.Math object>"
      ],
      "text/latex": [
       "$\\displaystyle {7.136512312560783} ^ 3 + {0.02130260248741156} ^ 3 + ({-6.98268654260511}) ^ 3 = 23$"
      ]
     },
     "metadata": {}
    },
    {
     "output_type": "display_data",
     "data": {
      "text/plain": [
       "<IPython.core.display.Math object>"
      ],
      "text/latex": [
       "$\\displaystyle \\text{or}$"
      ]
     },
     "metadata": {}
    },
    {
     "output_type": "display_data",
     "data": {
      "text/plain": [
       "<IPython.core.display.Math object>"
      ],
      "text/latex": [
       "$\\displaystyle {7.136512312560783} ^ 3 + {0.02130260248741156} ^ 3 + ({3.49134327130255 - 6.04718393255976 i}) ^ 3 = 23$"
      ]
     },
     "metadata": {}
    },
    {
     "output_type": "display_data",
     "data": {
      "text/plain": [
       "<IPython.core.display.Math object>"
      ],
      "text/latex": [
       "$\\displaystyle \\text{or}$"
      ]
     },
     "metadata": {}
    },
    {
     "output_type": "display_data",
     "data": {
      "text/plain": [
       "<IPython.core.display.Math object>"
      ],
      "text/latex": [
       "$\\displaystyle {7.136512312560783} ^ 3 + {0.02130260248741156} ^ 3 + ({3.49134327130255 + 6.04718393255976 i}) ^ 3 = 23$"
      ]
     },
     "metadata": {}
    },
    {
     "output_type": "display_data",
     "data": {
      "text/plain": [
       "<IPython.core.display.Math object>"
      ],
      "text/latex": [
       "$\\displaystyle \\text{-----}$"
      ]
     },
     "metadata": {}
    },
    {
     "output_type": "display_data",
     "data": {
      "text/plain": [
       "<IPython.core.display.Math object>"
      ],
      "text/latex": [
       "$\\displaystyle {0.016440721279108905} ^ 3 + {773.6136152562394} ^ 3 + ({-773.613601889001}) ^ 3 = 24$"
      ]
     },
     "metadata": {}
    },
    {
     "output_type": "display_data",
     "data": {
      "text/plain": [
       "<IPython.core.display.Math object>"
      ],
      "text/latex": [
       "$\\displaystyle \\text{or}$"
      ]
     },
     "metadata": {}
    },
    {
     "output_type": "display_data",
     "data": {
      "text/plain": [
       "<IPython.core.display.Math object>"
      ],
      "text/latex": [
       "$\\displaystyle {0.016440721279108905} ^ 3 + {773.6136152562394} ^ 3 + ({386.8068009445 - 669.969031949056 i}) ^ 3 = 24$"
      ]
     },
     "metadata": {}
    },
    {
     "output_type": "display_data",
     "data": {
      "text/plain": [
       "<IPython.core.display.Math object>"
      ],
      "text/latex": [
       "$\\displaystyle \\text{or}$"
      ]
     },
     "metadata": {}
    },
    {
     "output_type": "display_data",
     "data": {
      "text/plain": [
       "<IPython.core.display.Math object>"
      ],
      "text/latex": [
       "$\\displaystyle {0.016440721279108905} ^ 3 + {773.6136152562394} ^ 3 + ({386.8068009445 + 669.969031949056 i}) ^ 3 = 24$"
      ]
     },
     "metadata": {}
    },
    {
     "output_type": "display_data",
     "data": {
      "text/plain": [
       "<IPython.core.display.Math object>"
      ],
      "text/latex": [
       "$\\displaystyle \\text{-----}$"
      ]
     },
     "metadata": {}
    },
    {
     "output_type": "display_data",
     "data": {
      "text/plain": [
       "<IPython.core.display.Math object>"
      ],
      "text/latex": [
       "$\\displaystyle {0.5612453776193925} ^ 3 + {0.17349236964442794} ^ 3 + ({2.91690435088097}) ^ 3 = 25$"
      ]
     },
     "metadata": {}
    },
    {
     "output_type": "display_data",
     "data": {
      "text/plain": [
       "<IPython.core.display.Math object>"
      ],
      "text/latex": [
       "$\\displaystyle \\text{or}$"
      ]
     },
     "metadata": {}
    },
    {
     "output_type": "display_data",
     "data": {
      "text/plain": [
       "<IPython.core.display.Math object>"
      ],
      "text/latex": [
       "$\\displaystyle {0.5612453776193925} ^ 3 + {0.17349236964442794} ^ 3 + ({-1.45845217544048 - 2.52611326827228 i}) ^ 3 = 25$"
      ]
     },
     "metadata": {}
    },
    {
     "output_type": "display_data",
     "data": {
      "text/plain": [
       "<IPython.core.display.Math object>"
      ],
      "text/latex": [
       "$\\displaystyle \\text{or}$"
      ]
     },
     "metadata": {}
    },
    {
     "output_type": "display_data",
     "data": {
      "text/plain": [
       "<IPython.core.display.Math object>"
      ],
      "text/latex": [
       "$\\displaystyle {0.5612453776193925} ^ 3 + {0.17349236964442794} ^ 3 + ({-1.45845217544048 + 2.52611326827228 i}) ^ 3 = 25$"
      ]
     },
     "metadata": {}
    },
    {
     "output_type": "display_data",
     "data": {
      "text/plain": [
       "<IPython.core.display.Math object>"
      ],
      "text/latex": [
       "$\\displaystyle \\text{-----}$"
      ]
     },
     "metadata": {}
    },
    {
     "output_type": "display_data",
     "data": {
      "text/plain": [
       "<IPython.core.display.Math object>"
      ],
      "text/latex": [
       "$\\displaystyle {0.020380421140145624} ^ 3 + {257.5670917672922} ^ 3 + ({-257.56696112872}) ^ 3 = 26$"
      ]
     },
     "metadata": {}
    },
    {
     "output_type": "display_data",
     "data": {
      "text/plain": [
       "<IPython.core.display.Math object>"
      ],
      "text/latex": [
       "$\\displaystyle \\text{or}$"
      ]
     },
     "metadata": {}
    },
    {
     "output_type": "display_data",
     "data": {
      "text/plain": [
       "<IPython.core.display.Math object>"
      ],
      "text/latex": [
       "$\\displaystyle {0.020380421140145624} ^ 3 + {257.5670917672922} ^ 3 + ({128.78348056436 - 223.059531513031 i}) ^ 3 = 26$"
      ]
     },
     "metadata": {}
    },
    {
     "output_type": "display_data",
     "data": {
      "text/plain": [
       "<IPython.core.display.Math object>"
      ],
      "text/latex": [
       "$\\displaystyle \\text{or}$"
      ]
     },
     "metadata": {}
    },
    {
     "output_type": "display_data",
     "data": {
      "text/plain": [
       "<IPython.core.display.Math object>"
      ],
      "text/latex": [
       "$\\displaystyle {0.020380421140145624} ^ 3 + {257.5670917672922} ^ 3 + ({128.78348056436 + 223.059531513031 i}) ^ 3 = 26$"
      ]
     },
     "metadata": {}
    },
    {
     "output_type": "display_data",
     "data": {
      "text/plain": [
       "<IPython.core.display.Math object>"
      ],
      "text/latex": [
       "$\\displaystyle \\text{-----}$"
      ]
     },
     "metadata": {}
    },
    {
     "output_type": "display_data",
     "data": {
      "text/plain": [
       "<IPython.core.display.Math object>"
      ],
      "text/latex": [
       "$\\displaystyle {0.4515650688784383} ^ 3 + {0.00017989823800123106} ^ 3 + ({2.99658577917544}) ^ 3 = 27$"
      ]
     },
     "metadata": {}
    },
    {
     "output_type": "display_data",
     "data": {
      "text/plain": [
       "<IPython.core.display.Math object>"
      ],
      "text/latex": [
       "$\\displaystyle \\text{or}$"
      ]
     },
     "metadata": {}
    },
    {
     "output_type": "display_data",
     "data": {
      "text/plain": [
       "<IPython.core.display.Math object>"
      ],
      "text/latex": [
       "$\\displaystyle {0.4515650688784383} ^ 3 + {0.00017989823800123106} ^ 3 + ({-1.49829288958772 - 2.59511940938512 i}) ^ 3 = 27$"
      ]
     },
     "metadata": {}
    },
    {
     "output_type": "display_data",
     "data": {
      "text/plain": [
       "<IPython.core.display.Math object>"
      ],
      "text/latex": [
       "$\\displaystyle \\text{or}$"
      ]
     },
     "metadata": {}
    },
    {
     "output_type": "display_data",
     "data": {
      "text/plain": [
       "<IPython.core.display.Math object>"
      ],
      "text/latex": [
       "$\\displaystyle {0.4515650688784383} ^ 3 + {0.00017989823800123106} ^ 3 + ({-1.49829288958772 + 2.59511940938512 i}) ^ 3 = 27$"
      ]
     },
     "metadata": {}
    },
    {
     "output_type": "display_data",
     "data": {
      "text/plain": [
       "<IPython.core.display.Math object>"
      ],
      "text/latex": [
       "$\\displaystyle \\text{-----}$"
      ]
     },
     "metadata": {}
    },
    {
     "output_type": "display_data",
     "data": {
      "text/plain": [
       "<IPython.core.display.Math object>"
      ],
      "text/latex": [
       "$\\displaystyle {0.023493710334510733} ^ 3 + {0.09022471733233842} ^ 3 + ({3.03656195171467}) ^ 3 = 28$"
      ]
     },
     "metadata": {}
    },
    {
     "output_type": "display_data",
     "data": {
      "text/plain": [
       "<IPython.core.display.Math object>"
      ],
      "text/latex": [
       "$\\displaystyle \\text{or}$"
      ]
     },
     "metadata": {}
    },
    {
     "output_type": "display_data",
     "data": {
      "text/plain": [
       "<IPython.core.display.Math object>"
      ],
      "text/latex": [
       "$\\displaystyle {0.023493710334510733} ^ 3 + {0.09022471733233842} ^ 3 + ({-1.51828097585733 - 2.62973979035016 i}) ^ 3 = 28$"
      ]
     },
     "metadata": {}
    },
    {
     "output_type": "display_data",
     "data": {
      "text/plain": [
       "<IPython.core.display.Math object>"
      ],
      "text/latex": [
       "$\\displaystyle \\text{or}$"
      ]
     },
     "metadata": {}
    },
    {
     "output_type": "display_data",
     "data": {
      "text/plain": [
       "<IPython.core.display.Math object>"
      ],
      "text/latex": [
       "$\\displaystyle {0.023493710334510733} ^ 3 + {0.09022471733233842} ^ 3 + ({-1.51828097585733 + 2.62973979035016 i}) ^ 3 = 28$"
      ]
     },
     "metadata": {}
    },
    {
     "output_type": "display_data",
     "data": {
      "text/plain": [
       "<IPython.core.display.Math object>"
      ],
      "text/latex": [
       "$\\displaystyle \\text{-----}$"
      ]
     },
     "metadata": {}
    },
    {
     "output_type": "display_data",
     "data": {
      "text/plain": [
       "<IPython.core.display.Math object>"
      ],
      "text/latex": [
       "$\\displaystyle {750.683595357927} ^ 3 + {0.38711049308547074} ^ 3 + ({-750.68357823834}) ^ 3 = 29$"
      ]
     },
     "metadata": {}
    },
    {
     "output_type": "display_data",
     "data": {
      "text/plain": [
       "<IPython.core.display.Math object>"
      ],
      "text/latex": [
       "$\\displaystyle \\text{or}$"
      ]
     },
     "metadata": {}
    },
    {
     "output_type": "display_data",
     "data": {
      "text/plain": [
       "<IPython.core.display.Math object>"
      ],
      "text/latex": [
       "$\\displaystyle {750.683595357927} ^ 3 + {0.38711049308547074} ^ 3 + ({375.34178911917 - 650.111048958205 i}) ^ 3 = 29$"
      ]
     },
     "metadata": {}
    },
    {
     "output_type": "display_data",
     "data": {
      "text/plain": [
       "<IPython.core.display.Math object>"
      ],
      "text/latex": [
       "$\\displaystyle \\text{or}$"
      ]
     },
     "metadata": {}
    },
    {
     "output_type": "display_data",
     "data": {
      "text/plain": [
       "<IPython.core.display.Math object>"
      ],
      "text/latex": [
       "$\\displaystyle {750.683595357927} ^ 3 + {0.38711049308547074} ^ 3 + ({375.34178911917 + 650.111048958205 i}) ^ 3 = 29$"
      ]
     },
     "metadata": {}
    },
    {
     "output_type": "display_data",
     "data": {
      "text/plain": [
       "<IPython.core.display.Math object>"
      ],
      "text/latex": [
       "$\\displaystyle \\text{-----}$"
      ]
     },
     "metadata": {}
    },
    {
     "output_type": "display_data",
     "data": {
      "text/plain": [
       "<IPython.core.display.Math object>"
      ],
      "text/latex": [
       "$\\displaystyle {0.01936377830835242} ^ 3 + {0.0001761454867095913} ^ 3 + ({3.10723225528412}) ^ 3 = 30$"
      ]
     },
     "metadata": {}
    },
    {
     "output_type": "display_data",
     "data": {
      "text/plain": [
       "<IPython.core.display.Math object>"
      ],
      "text/latex": [
       "$\\displaystyle \\text{or}$"
      ]
     },
     "metadata": {}
    },
    {
     "output_type": "display_data",
     "data": {
      "text/plain": [
       "<IPython.core.display.Math object>"
      ],
      "text/latex": [
       "$\\displaystyle {0.01936377830835242} ^ 3 + {0.0001761454867095913} ^ 3 + ({-1.55361612764206 - 2.69094206853446 i}) ^ 3 = 30$"
      ]
     },
     "metadata": {}
    },
    {
     "output_type": "display_data",
     "data": {
      "text/plain": [
       "<IPython.core.display.Math object>"
      ],
      "text/latex": [
       "$\\displaystyle \\text{or}$"
      ]
     },
     "metadata": {}
    },
    {
     "output_type": "display_data",
     "data": {
      "text/plain": [
       "<IPython.core.display.Math object>"
      ],
      "text/latex": [
       "$\\displaystyle {0.01936377830835242} ^ 3 + {0.0001761454867095913} ^ 3 + ({-1.55361612764206 + 2.69094206853446 i}) ^ 3 = 30$"
      ]
     },
     "metadata": {}
    },
    {
     "output_type": "display_data",
     "data": {
      "text/plain": [
       "<IPython.core.display.Math object>"
      ],
      "text/latex": [
       "$\\displaystyle \\text{-----}$"
      ]
     },
     "metadata": {}
    },
    {
     "output_type": "display_data",
     "data": {
      "text/plain": [
       "<IPython.core.display.Math object>"
      ],
      "text/latex": [
       "$\\displaystyle {0.09208015676009595} ^ 3 + {0.00017645027128219626} ^ 3 + ({3.14135428061316}) ^ 3 = 31$"
      ]
     },
     "metadata": {}
    },
    {
     "output_type": "display_data",
     "data": {
      "text/plain": [
       "<IPython.core.display.Math object>"
      ],
      "text/latex": [
       "$\\displaystyle \\text{or}$"
      ]
     },
     "metadata": {}
    },
    {
     "output_type": "display_data",
     "data": {
      "text/plain": [
       "<IPython.core.display.Math object>"
      ],
      "text/latex": [
       "$\\displaystyle {0.09208015676009595} ^ 3 + {0.00017645027128219626} ^ 3 + ({-1.57067714030658 - 2.72049260929799 i}) ^ 3 = 31$"
      ]
     },
     "metadata": {}
    },
    {
     "output_type": "display_data",
     "data": {
      "text/plain": [
       "<IPython.core.display.Math object>"
      ],
      "text/latex": [
       "$\\displaystyle \\text{or}$"
      ]
     },
     "metadata": {}
    },
    {
     "output_type": "display_data",
     "data": {
      "text/plain": [
       "<IPython.core.display.Math object>"
      ],
      "text/latex": [
       "$\\displaystyle {0.09208015676009595} ^ 3 + {0.00017645027128219626} ^ 3 + ({-1.57067714030658 + 2.72049260929799 i}) ^ 3 = 31$"
      ]
     },
     "metadata": {}
    },
    {
     "output_type": "display_data",
     "data": {
      "text/plain": [
       "<IPython.core.display.Math object>"
      ],
      "text/latex": [
       "$\\displaystyle \\text{-----}$"
      ]
     },
     "metadata": {}
    },
    {
     "output_type": "display_data",
     "data": {
      "text/plain": [
       "<IPython.core.display.Math object>"
      ],
      "text/latex": [
       "$\\displaystyle {0.06485308025733111} ^ 3 + {0.0031234178636733835} ^ 3 + ({3.17479308226514}) ^ 3 = 32$"
      ]
     },
     "metadata": {}
    },
    {
     "output_type": "display_data",
     "data": {
      "text/plain": [
       "<IPython.core.display.Math object>"
      ],
      "text/latex": [
       "$\\displaystyle \\text{or}$"
      ]
     },
     "metadata": {}
    },
    {
     "output_type": "display_data",
     "data": {
      "text/plain": [
       "<IPython.core.display.Math object>"
      ],
      "text/latex": [
       "$\\displaystyle {0.06485308025733111} ^ 3 + {0.0031234178636733835} ^ 3 + ({-1.58739654113257 - 2.74945146100071 i}) ^ 3 = 32$"
      ]
     },
     "metadata": {}
    },
    {
     "output_type": "display_data",
     "data": {
      "text/plain": [
       "<IPython.core.display.Math object>"
      ],
      "text/latex": [
       "$\\displaystyle \\text{or}$"
      ]
     },
     "metadata": {}
    },
    {
     "output_type": "display_data",
     "data": {
      "text/plain": [
       "<IPython.core.display.Math object>"
      ],
      "text/latex": [
       "$\\displaystyle {0.06485308025733111} ^ 3 + {0.0031234178636733835} ^ 3 + ({-1.58739654113257 + 2.74945146100071 i}) ^ 3 = 32$"
      ]
     },
     "metadata": {}
    },
    {
     "output_type": "display_data",
     "data": {
      "text/plain": [
       "<IPython.core.display.Math object>"
      ],
      "text/latex": [
       "$\\displaystyle \\text{-----}$"
      ]
     },
     "metadata": {}
    },
    {
     "output_type": "display_data",
     "data": {
      "text/plain": [
       "<IPython.core.display.Math object>"
      ],
      "text/latex": [
       "$\\displaystyle {9.837927006336939} ^ 3 + {11.920540763270049} ^ 3 + ({-13.7736778198008}) ^ 3 = 33$"
      ]
     },
     "metadata": {}
    },
    {
     "output_type": "display_data",
     "data": {
      "text/plain": [
       "<IPython.core.display.Math object>"
      ],
      "text/latex": [
       "$\\displaystyle \\text{or}$"
      ]
     },
     "metadata": {}
    },
    {
     "output_type": "display_data",
     "data": {
      "text/plain": [
       "<IPython.core.display.Math object>"
      ],
      "text/latex": [
       "$\\displaystyle {9.837927006336939} ^ 3 + {11.920540763270049} ^ 3 + ({6.88683890990042 - 11.9283548954898 i}) ^ 3 = 33$"
      ]
     },
     "metadata": {}
    },
    {
     "output_type": "display_data",
     "data": {
      "text/plain": [
       "<IPython.core.display.Math object>"
      ],
      "text/latex": [
       "$\\displaystyle \\text{or}$"
      ]
     },
     "metadata": {}
    },
    {
     "output_type": "display_data",
     "data": {
      "text/plain": [
       "<IPython.core.display.Math object>"
      ],
      "text/latex": [
       "$\\displaystyle {9.837927006336939} ^ 3 + {11.920540763270049} ^ 3 + ({6.88683890990042 + 11.9283548954898 i}) ^ 3 = 33$"
      ]
     },
     "metadata": {}
    },
    {
     "output_type": "display_data",
     "data": {
      "text/plain": [
       "<IPython.core.display.Math object>"
      ],
      "text/latex": [
       "$\\displaystyle \\text{-----}$"
      ]
     },
     "metadata": {}
    },
    {
     "output_type": "display_data",
     "data": {
      "text/plain": [
       "<IPython.core.display.Math object>"
      ],
      "text/latex": [
       "$\\displaystyle {0.006852268149924289} ^ 3 + {0.023599736913698835} ^ 3 + ({3.23961137359928}) ^ 3 = 34$"
      ]
     },
     "metadata": {}
    },
    {
     "output_type": "display_data",
     "data": {
      "text/plain": [
       "<IPython.core.display.Math object>"
      ],
      "text/latex": [
       "$\\displaystyle \\text{or}$"
      ]
     },
     "metadata": {}
    },
    {
     "output_type": "display_data",
     "data": {
      "text/plain": [
       "<IPython.core.display.Math object>"
      ],
      "text/latex": [
       "$\\displaystyle {0.006852268149924289} ^ 3 + {0.023599736913698835} ^ 3 + ({-1.61980568679964 - 2.80558574792598 i}) ^ 3 = 34$"
      ]
     },
     "metadata": {}
    },
    {
     "output_type": "display_data",
     "data": {
      "text/plain": [
       "<IPython.core.display.Math object>"
      ],
      "text/latex": [
       "$\\displaystyle \\text{or}$"
      ]
     },
     "metadata": {}
    },
    {
     "output_type": "display_data",
     "data": {
      "text/plain": [
       "<IPython.core.display.Math object>"
      ],
      "text/latex": [
       "$\\displaystyle {0.006852268149924289} ^ 3 + {0.023599736913698835} ^ 3 + ({-1.61980568679964 + 2.80558574792598 i}) ^ 3 = 34$"
      ]
     },
     "metadata": {}
    },
    {
     "output_type": "display_data",
     "data": {
      "text/plain": [
       "<IPython.core.display.Math object>"
      ],
      "text/latex": [
       "$\\displaystyle \\text{-----}$"
      ]
     },
     "metadata": {}
    },
    {
     "output_type": "display_data",
     "data": {
      "text/plain": [
       "<IPython.core.display.Math object>"
      ],
      "text/latex": [
       "$\\displaystyle {2.6802348985801574} ^ 3 + {6.124706710208816} ^ 3 + ({-5.98146213269983}) ^ 3 = 35$"
      ]
     },
     "metadata": {}
    },
    {
     "output_type": "display_data",
     "data": {
      "text/plain": [
       "<IPython.core.display.Math object>"
      ],
      "text/latex": [
       "$\\displaystyle \\text{or}$"
      ]
     },
     "metadata": {}
    },
    {
     "output_type": "display_data",
     "data": {
      "text/plain": [
       "<IPython.core.display.Math object>"
      ],
      "text/latex": [
       "$\\displaystyle {2.6802348985801574} ^ 3 + {6.124706710208816} ^ 3 + ({2.99073106634992 - 5.1800981586927 i}) ^ 3 = 35$"
      ]
     },
     "metadata": {}
    },
    {
     "output_type": "display_data",
     "data": {
      "text/plain": [
       "<IPython.core.display.Math object>"
      ],
      "text/latex": [
       "$\\displaystyle \\text{or}$"
      ]
     },
     "metadata": {}
    },
    {
     "output_type": "display_data",
     "data": {
      "text/plain": [
       "<IPython.core.display.Math object>"
      ],
      "text/latex": [
       "$\\displaystyle {2.6802348985801574} ^ 3 + {6.124706710208816} ^ 3 + ({2.99073106634992 + 5.1800981586927 i}) ^ 3 = 35$"
      ]
     },
     "metadata": {}
    },
    {
     "output_type": "display_data",
     "data": {
      "text/plain": [
       "<IPython.core.display.Math object>"
      ],
      "text/latex": [
       "$\\displaystyle \\text{-----}$"
      ]
     },
     "metadata": {}
    },
    {
     "output_type": "display_data",
     "data": {
      "text/plain": [
       "<IPython.core.display.Math object>"
      ],
      "text/latex": [
       "$\\displaystyle {1.8439460241618866} ^ 3 + {55.221738849803906} ^ 3 + ({-55.2184888458129}) ^ 3 = 36$"
      ]
     },
     "metadata": {}
    },
    {
     "output_type": "display_data",
     "data": {
      "text/plain": [
       "<IPython.core.display.Math object>"
      ],
      "text/latex": [
       "$\\displaystyle \\text{or}$"
      ]
     },
     "metadata": {}
    },
    {
     "output_type": "display_data",
     "data": {
      "text/plain": [
       "<IPython.core.display.Math object>"
      ],
      "text/latex": [
       "$\\displaystyle {1.8439460241618866} ^ 3 + {55.221738849803906} ^ 3 + ({27.6092444229064 - 47.8206140990616 i}) ^ 3 = 36$"
      ]
     },
     "metadata": {}
    },
    {
     "output_type": "display_data",
     "data": {
      "text/plain": [
       "<IPython.core.display.Math object>"
      ],
      "text/latex": [
       "$\\displaystyle \\text{or}$"
      ]
     },
     "metadata": {}
    },
    {
     "output_type": "display_data",
     "data": {
      "text/plain": [
       "<IPython.core.display.Math object>"
      ],
      "text/latex": [
       "$\\displaystyle {1.8439460241618866} ^ 3 + {55.221738849803906} ^ 3 + ({27.6092444229064 + 47.8206140990616 i}) ^ 3 = 36$"
      ]
     },
     "metadata": {}
    },
    {
     "output_type": "display_data",
     "data": {
      "text/plain": [
       "<IPython.core.display.Math object>"
      ],
      "text/latex": [
       "$\\displaystyle \\text{-----}$"
      ]
     },
     "metadata": {}
    },
    {
     "output_type": "display_data",
     "data": {
      "text/plain": [
       "<IPython.core.display.Math object>"
      ],
      "text/latex": [
       "$\\displaystyle {76.83406532036996} ^ 3 + {0.5246101858144122} ^ 3 + ({-76.8319842508301}) ^ 3 = 37$"
      ]
     },
     "metadata": {}
    },
    {
     "output_type": "display_data",
     "data": {
      "text/plain": [
       "<IPython.core.display.Math object>"
      ],
      "text/latex": [
       "$\\displaystyle \\text{or}$"
      ]
     },
     "metadata": {}
    },
    {
     "output_type": "display_data",
     "data": {
      "text/plain": [
       "<IPython.core.display.Math object>"
      ],
      "text/latex": [
       "$\\displaystyle {76.83406532036996} ^ 3 + {0.5246101858144122} ^ 3 + ({38.4159921254151 - 66.5384501843848 i}) ^ 3 = 37$"
      ]
     },
     "metadata": {}
    },
    {
     "output_type": "display_data",
     "data": {
      "text/plain": [
       "<IPython.core.display.Math object>"
      ],
      "text/latex": [
       "$\\displaystyle \\text{or}$"
      ]
     },
     "metadata": {}
    },
    {
     "output_type": "display_data",
     "data": {
      "text/plain": [
       "<IPython.core.display.Math object>"
      ],
      "text/latex": [
       "$\\displaystyle {76.83406532036996} ^ 3 + {0.5246101858144122} ^ 3 + ({38.4159921254151 + 66.5384501843848 i}) ^ 3 = 37$"
      ]
     },
     "metadata": {}
    },
    {
     "output_type": "display_data",
     "data": {
      "text/plain": [
       "<IPython.core.display.Math object>"
      ],
      "text/latex": [
       "$\\displaystyle \\text{-----}$"
      ]
     },
     "metadata": {}
    },
    {
     "output_type": "display_data",
     "data": {
      "text/plain": [
       "<IPython.core.display.Math object>"
      ],
      "text/latex": [
       "$\\displaystyle {0.0078114416780763665} ^ 3 + {0.00025182464433547104} ^ 3 + ({3.36197539274179}) ^ 3 = 38$"
      ]
     },
     "metadata": {}
    },
    {
     "output_type": "display_data",
     "data": {
      "text/plain": [
       "<IPython.core.display.Math object>"
      ],
      "text/latex": [
       "$\\displaystyle \\text{or}$"
      ]
     },
     "metadata": {}
    },
    {
     "output_type": "display_data",
     "data": {
      "text/plain": [
       "<IPython.core.display.Math object>"
      ],
      "text/latex": [
       "$\\displaystyle {0.0078114416780763665} ^ 3 + {0.00025182464433547104} ^ 3 + ({-1.6809876963709 - 2.91155609701256 i}) ^ 3 = 38$"
      ]
     },
     "metadata": {}
    },
    {
     "output_type": "display_data",
     "data": {
      "text/plain": [
       "<IPython.core.display.Math object>"
      ],
      "text/latex": [
       "$\\displaystyle \\text{or}$"
      ]
     },
     "metadata": {}
    },
    {
     "output_type": "display_data",
     "data": {
      "text/plain": [
       "<IPython.core.display.Math object>"
      ],
      "text/latex": [
       "$\\displaystyle {0.0078114416780763665} ^ 3 + {0.00025182464433547104} ^ 3 + ({-1.6809876963709 + 2.91155609701256 i}) ^ 3 = 38$"
      ]
     },
     "metadata": {}
    },
    {
     "output_type": "display_data",
     "data": {
      "text/plain": [
       "<IPython.core.display.Math object>"
      ],
      "text/latex": [
       "$\\displaystyle \\text{-----}$"
      ]
     },
     "metadata": {}
    },
    {
     "output_type": "display_data",
     "data": {
      "text/plain": [
       "<IPython.core.display.Math object>"
      ],
      "text/latex": [
       "$\\displaystyle {95.88298617384736} ^ 3 + {0.9493201151104014} ^ 3 + ({-95.8816031380244}) ^ 3 = 39$"
      ]
     },
     "metadata": {}
    },
    {
     "output_type": "display_data",
     "data": {
      "text/plain": [
       "<IPython.core.display.Math object>"
      ],
      "text/latex": [
       "$\\displaystyle \\text{or}$"
      ]
     },
     "metadata": {}
    },
    {
     "output_type": "display_data",
     "data": {
      "text/plain": [
       "<IPython.core.display.Math object>"
      ],
      "text/latex": [
       "$\\displaystyle {95.88298617384736} ^ 3 + {0.9493201151104014} ^ 3 + ({47.9408015690122 - 83.0359040731069 i}) ^ 3 = 39$"
      ]
     },
     "metadata": {}
    },
    {
     "output_type": "display_data",
     "data": {
      "text/plain": [
       "<IPython.core.display.Math object>"
      ],
      "text/latex": [
       "$\\displaystyle \\text{or}$"
      ]
     },
     "metadata": {}
    },
    {
     "output_type": "display_data",
     "data": {
      "text/plain": [
       "<IPython.core.display.Math object>"
      ],
      "text/latex": [
       "$\\displaystyle {95.88298617384736} ^ 3 + {0.9493201151104014} ^ 3 + ({47.9408015690122 + 83.0359040731069 i}) ^ 3 = 39$"
      ]
     },
     "metadata": {}
    },
    {
     "output_type": "display_data",
     "data": {
      "text/plain": [
       "<IPython.core.display.Math object>"
      ],
      "text/latex": [
       "$\\displaystyle \\text{-----}$"
      ]
     },
     "metadata": {}
    },
    {
     "output_type": "display_data",
     "data": {
      "text/plain": [
       "<IPython.core.display.Math object>"
      ],
      "text/latex": [
       "$\\displaystyle {0.12594748318991678} ^ 3 + {7.362907682260563} ^ 3 + ({-7.10826891213582}) ^ 3 = 40$"
      ]
     },
     "metadata": {}
    },
    {
     "output_type": "display_data",
     "data": {
      "text/plain": [
       "<IPython.core.display.Math object>"
      ],
      "text/latex": [
       "$\\displaystyle \\text{or}$"
      ]
     },
     "metadata": {}
    },
    {
     "output_type": "display_data",
     "data": {
      "text/plain": [
       "<IPython.core.display.Math object>"
      ],
      "text/latex": [
       "$\\displaystyle {0.12594748318991678} ^ 3 + {7.362907682260563} ^ 3 + ({3.55413445606791 - 6.1559414548408 i}) ^ 3 = 40$"
      ]
     },
     "metadata": {}
    },
    {
     "output_type": "display_data",
     "data": {
      "text/plain": [
       "<IPython.core.display.Math object>"
      ],
      "text/latex": [
       "$\\displaystyle \\text{or}$"
      ]
     },
     "metadata": {}
    },
    {
     "output_type": "display_data",
     "data": {
      "text/plain": [
       "<IPython.core.display.Math object>"
      ],
      "text/latex": [
       "$\\displaystyle {0.12594748318991678} ^ 3 + {7.362907682260563} ^ 3 + ({3.55413445606791 + 6.1559414548408 i}) ^ 3 = 40$"
      ]
     },
     "metadata": {}
    },
    {
     "output_type": "display_data",
     "data": {
      "text/plain": [
       "<IPython.core.display.Math object>"
      ],
      "text/latex": [
       "$\\displaystyle \\text{-----}$"
      ]
     },
     "metadata": {}
    },
    {
     "output_type": "display_data",
     "data": {
      "text/plain": [
       "<IPython.core.display.Math object>"
      ],
      "text/latex": [
       "$\\displaystyle {77.1162386436285} ^ 3 + {8.05001306552834} ^ 3 + ({-77.1431710892615}) ^ 3 = 41$"
      ]
     },
     "metadata": {}
    },
    {
     "output_type": "display_data",
     "data": {
      "text/plain": [
       "<IPython.core.display.Math object>"
      ],
      "text/latex": [
       "$\\displaystyle \\text{or}$"
      ]
     },
     "metadata": {}
    },
    {
     "output_type": "display_data",
     "data": {
      "text/plain": [
       "<IPython.core.display.Math object>"
      ],
      "text/latex": [
       "$\\displaystyle {77.1162386436285} ^ 3 + {8.05001306552834} ^ 3 + ({38.5715855446308 - 66.8079458917897 i}) ^ 3 = 41$"
      ]
     },
     "metadata": {}
    },
    {
     "output_type": "display_data",
     "data": {
      "text/plain": [
       "<IPython.core.display.Math object>"
      ],
      "text/latex": [
       "$\\displaystyle \\text{or}$"
      ]
     },
     "metadata": {}
    },
    {
     "output_type": "display_data",
     "data": {
      "text/plain": [
       "<IPython.core.display.Math object>"
      ],
      "text/latex": [
       "$\\displaystyle {77.1162386436285} ^ 3 + {8.05001306552834} ^ 3 + ({38.5715855446308 + 66.8079458917897 i}) ^ 3 = 41$"
      ]
     },
     "metadata": {}
    },
    {
     "output_type": "display_data",
     "data": {
      "text/plain": [
       "<IPython.core.display.Math object>"
      ],
      "text/latex": [
       "$\\displaystyle \\text{-----}$"
      ]
     },
     "metadata": {}
    },
    {
     "output_type": "display_data",
     "data": {
      "text/plain": [
       "<IPython.core.display.Math object>"
      ],
      "text/latex": [
       "$\\displaystyle {1.605935042595884} ^ 3 + {213.7232843335223} ^ 3 + ({-213.723008061976}) ^ 3 = 42$"
      ]
     },
     "metadata": {}
    },
    {
     "output_type": "display_data",
     "data": {
      "text/plain": [
       "<IPython.core.display.Math object>"
      ],
      "text/latex": [
       "$\\displaystyle \\text{or}$"
      ]
     },
     "metadata": {}
    },
    {
     "output_type": "display_data",
     "data": {
      "text/plain": [
       "<IPython.core.display.Math object>"
      ],
      "text/latex": [
       "$\\displaystyle {1.605935042595884} ^ 3 + {213.7232843335223} ^ 3 + ({106.861504030988 - 185.089554354898 i}) ^ 3 = 42$"
      ]
     },
     "metadata": {}
    },
    {
     "output_type": "display_data",
     "data": {
      "text/plain": [
       "<IPython.core.display.Math object>"
      ],
      "text/latex": [
       "$\\displaystyle \\text{or}$"
      ]
     },
     "metadata": {}
    },
    {
     "output_type": "display_data",
     "data": {
      "text/plain": [
       "<IPython.core.display.Math object>"
      ],
      "text/latex": [
       "$\\displaystyle {1.605935042595884} ^ 3 + {213.7232843335223} ^ 3 + ({106.861504030988 + 185.089554354898 i}) ^ 3 = 42$"
      ]
     },
     "metadata": {}
    },
    {
     "output_type": "display_data",
     "data": {
      "text/plain": [
       "<IPython.core.display.Math object>"
      ],
      "text/latex": [
       "$\\displaystyle \\text{-----}$"
      ]
     },
     "metadata": {}
    },
    {
     "output_type": "display_data",
     "data": {
      "text/plain": [
       "<IPython.core.display.Math object>"
      ],
      "text/latex": [
       "$\\displaystyle {0.0007564710347441524} ^ 3 + {0.6414958293651574} ^ 3 + ({3.49621396385369}) ^ 3 = 43$"
      ]
     },
     "metadata": {}
    },
    {
     "output_type": "display_data",
     "data": {
      "text/plain": [
       "<IPython.core.display.Math object>"
      ],
      "text/latex": [
       "$\\displaystyle \\text{or}$"
      ]
     },
     "metadata": {}
    },
    {
     "output_type": "display_data",
     "data": {
      "text/plain": [
       "<IPython.core.display.Math object>"
      ],
      "text/latex": [
       "$\\displaystyle {0.0007564710347441524} ^ 3 + {0.6414958293651574} ^ 3 + ({-1.74810698192685 - 3.02781010976319 i}) ^ 3 = 43$"
      ]
     },
     "metadata": {}
    },
    {
     "output_type": "display_data",
     "data": {
      "text/plain": [
       "<IPython.core.display.Math object>"
      ],
      "text/latex": [
       "$\\displaystyle \\text{or}$"
      ]
     },
     "metadata": {}
    },
    {
     "output_type": "display_data",
     "data": {
      "text/plain": [
       "<IPython.core.display.Math object>"
      ],
      "text/latex": [
       "$\\displaystyle {0.0007564710347441524} ^ 3 + {0.6414958293651574} ^ 3 + ({-1.74810698192685 + 3.02781010976319 i}) ^ 3 = 43$"
      ]
     },
     "metadata": {}
    },
    {
     "output_type": "display_data",
     "data": {
      "text/plain": [
       "<IPython.core.display.Math object>"
      ],
      "text/latex": [
       "$\\displaystyle \\text{-----}$"
      ]
     },
     "metadata": {}
    },
    {
     "output_type": "display_data",
     "data": {
      "text/plain": [
       "<IPython.core.display.Math object>"
      ],
      "text/latex": [
       "$\\displaystyle {1.3764658123804951} ^ 3 + {0.0051366925869235115} ^ 3 + ({3.45917372873043}) ^ 3 = 44$"
      ]
     },
     "metadata": {}
    },
    {
     "output_type": "display_data",
     "data": {
      "text/plain": [
       "<IPython.core.display.Math object>"
      ],
      "text/latex": [
       "$\\displaystyle \\text{or}$"
      ]
     },
     "metadata": {}
    },
    {
     "output_type": "display_data",
     "data": {
      "text/plain": [
       "<IPython.core.display.Math object>"
      ],
      "text/latex": [
       "$\\displaystyle {1.3764658123804951} ^ 3 + {0.0051366925869235115} ^ 3 + ({-1.72958686436521 - 2.99573232518429 i}) ^ 3 = 44$"
      ]
     },
     "metadata": {}
    },
    {
     "output_type": "display_data",
     "data": {
      "text/plain": [
       "<IPython.core.display.Math object>"
      ],
      "text/latex": [
       "$\\displaystyle \\text{or}$"
      ]
     },
     "metadata": {}
    },
    {
     "output_type": "display_data",
     "data": {
      "text/plain": [
       "<IPython.core.display.Math object>"
      ],
      "text/latex": [
       "$\\displaystyle {1.3764658123804951} ^ 3 + {0.0051366925869235115} ^ 3 + ({-1.72958686436521 + 2.99573232518429 i}) ^ 3 = 44$"
      ]
     },
     "metadata": {}
    },
    {
     "output_type": "display_data",
     "data": {
      "text/plain": [
       "<IPython.core.display.Math object>"
      ],
      "text/latex": [
       "$\\displaystyle \\text{-----}$"
      ]
     },
     "metadata": {}
    },
    {
     "output_type": "display_data",
     "data": {
      "text/plain": [
       "<IPython.core.display.Math object>"
      ],
      "text/latex": [
       "$\\displaystyle {0.8361753631852732} ^ 3 + {61.84485652780034} ^ 3 + ({-61.8409854500313}) ^ 3 = 45$"
      ]
     },
     "metadata": {}
    },
    {
     "output_type": "display_data",
     "data": {
      "text/plain": [
       "<IPython.core.display.Math object>"
      ],
      "text/latex": [
       "$\\displaystyle \\text{or}$"
      ]
     },
     "metadata": {}
    },
    {
     "output_type": "display_data",
     "data": {
      "text/plain": [
       "<IPython.core.display.Math object>"
      ],
      "text/latex": [
       "$\\displaystyle {0.8361753631852732} ^ 3 + {61.84485652780034} ^ 3 + ({30.9204927250156 - 53.5558643947909 i}) ^ 3 = 45$"
      ]
     },
     "metadata": {}
    },
    {
     "output_type": "display_data",
     "data": {
      "text/plain": [
       "<IPython.core.display.Math object>"
      ],
      "text/latex": [
       "$\\displaystyle \\text{or}$"
      ]
     },
     "metadata": {}
    },
    {
     "output_type": "display_data",
     "data": {
      "text/plain": [
       "<IPython.core.display.Math object>"
      ],
      "text/latex": [
       "$\\displaystyle {0.8361753631852732} ^ 3 + {61.84485652780034} ^ 3 + ({30.9204927250156 + 53.5558643947909 i}) ^ 3 = 45$"
      ]
     },
     "metadata": {}
    },
    {
     "output_type": "display_data",
     "data": {
      "text/plain": [
       "<IPython.core.display.Math object>"
      ],
      "text/latex": [
       "$\\displaystyle \\text{-----}$"
      ]
     },
     "metadata": {}
    },
    {
     "output_type": "display_data",
     "data": {
      "text/plain": [
       "<IPython.core.display.Math object>"
      ],
      "text/latex": [
       "$\\displaystyle {0.7808785925132797} ^ 3 + {0.9977387916184501} ^ 3 + ({3.54448289046914}) ^ 3 = 46$"
      ]
     },
     "metadata": {}
    },
    {
     "output_type": "display_data",
     "data": {
      "text/plain": [
       "<IPython.core.display.Math object>"
      ],
      "text/latex": [
       "$\\displaystyle \\text{or}$"
      ]
     },
     "metadata": {}
    },
    {
     "output_type": "display_data",
     "data": {
      "text/plain": [
       "<IPython.core.display.Math object>"
      ],
      "text/latex": [
       "$\\displaystyle {0.7808785925132797} ^ 3 + {0.9977387916184501} ^ 3 + ({-1.77224144523457 - 3.06961222642557 i}) ^ 3 = 46$"
      ]
     },
     "metadata": {}
    },
    {
     "output_type": "display_data",
     "data": {
      "text/plain": [
       "<IPython.core.display.Math object>"
      ],
      "text/latex": [
       "$\\displaystyle \\text{or}$"
      ]
     },
     "metadata": {}
    },
    {
     "output_type": "display_data",
     "data": {
      "text/plain": [
       "<IPython.core.display.Math object>"
      ],
      "text/latex": [
       "$\\displaystyle {0.7808785925132797} ^ 3 + {0.9977387916184501} ^ 3 + ({-1.77224144523457 + 3.06961222642557 i}) ^ 3 = 46$"
      ]
     },
     "metadata": {}
    },
    {
     "output_type": "display_data",
     "data": {
      "text/plain": [
       "<IPython.core.display.Math object>"
      ],
      "text/latex": [
       "$\\displaystyle \\text{-----}$"
      ]
     },
     "metadata": {}
    },
    {
     "output_type": "display_data",
     "data": {
      "text/plain": [
       "<IPython.core.display.Math object>"
      ],
      "text/latex": [
       "$\\displaystyle {0.6709488284889694} ^ 3 + {0.008375758156352905} ^ 3 + ({3.60107881285961}) ^ 3 = 47$"
      ]
     },
     "metadata": {}
    },
    {
     "output_type": "display_data",
     "data": {
      "text/plain": [
       "<IPython.core.display.Math object>"
      ],
      "text/latex": [
       "$\\displaystyle \\text{or}$"
      ]
     },
     "metadata": {}
    },
    {
     "output_type": "display_data",
     "data": {
      "text/plain": [
       "<IPython.core.display.Math object>"
      ],
      "text/latex": [
       "$\\displaystyle {0.6709488284889694} ^ 3 + {0.008375758156352905} ^ 3 + ({-1.8005394064298 - 3.11862573296633 i}) ^ 3 = 47$"
      ]
     },
     "metadata": {}
    },
    {
     "output_type": "display_data",
     "data": {
      "text/plain": [
       "<IPython.core.display.Math object>"
      ],
      "text/latex": [
       "$\\displaystyle \\text{or}$"
      ]
     },
     "metadata": {}
    },
    {
     "output_type": "display_data",
     "data": {
      "text/plain": [
       "<IPython.core.display.Math object>"
      ],
      "text/latex": [
       "$\\displaystyle {0.6709488284889694} ^ 3 + {0.008375758156352905} ^ 3 + ({-1.8005394064298 + 3.11862573296633 i}) ^ 3 = 47$"
      ]
     },
     "metadata": {}
    },
    {
     "output_type": "display_data",
     "data": {
      "text/plain": [
       "<IPython.core.display.Math object>"
      ],
      "text/latex": [
       "$\\displaystyle \\text{-----}$"
      ]
     },
     "metadata": {}
    },
    {
     "output_type": "display_data",
     "data": {
      "text/plain": [
       "<IPython.core.display.Math object>"
      ],
      "text/latex": [
       "$\\displaystyle {0.00450690403284283} ^ 3 + {0.0044025286021986375} ^ 3 + ({3.63424118120032}) ^ 3 = 48$"
      ]
     },
     "metadata": {}
    },
    {
     "output_type": "display_data",
     "data": {
      "text/plain": [
       "<IPython.core.display.Math object>"
      ],
      "text/latex": [
       "$\\displaystyle \\text{or}$"
      ]
     },
     "metadata": {}
    },
    {
     "output_type": "display_data",
     "data": {
      "text/plain": [
       "<IPython.core.display.Math object>"
      ],
      "text/latex": [
       "$\\displaystyle {0.00450690403284283} ^ 3 + {0.0044025286021986375} ^ 3 + ({-1.81712059060016 - 3.14734518639904 i}) ^ 3 = 48$"
      ]
     },
     "metadata": {}
    },
    {
     "output_type": "display_data",
     "data": {
      "text/plain": [
       "<IPython.core.display.Math object>"
      ],
      "text/latex": [
       "$\\displaystyle \\text{or}$"
      ]
     },
     "metadata": {}
    },
    {
     "output_type": "display_data",
     "data": {
      "text/plain": [
       "<IPython.core.display.Math object>"
      ],
      "text/latex": [
       "$\\displaystyle {0.00450690403284283} ^ 3 + {0.0044025286021986375} ^ 3 + ({-1.81712059060016 + 3.14734518639904 i}) ^ 3 = 48$"
      ]
     },
     "metadata": {}
    },
    {
     "output_type": "display_data",
     "data": {
      "text/plain": [
       "<IPython.core.display.Math object>"
      ],
      "text/latex": [
       "$\\displaystyle \\text{-----}$"
      ]
     },
     "metadata": {}
    },
    {
     "output_type": "display_data",
     "data": {
      "text/plain": [
       "<IPython.core.display.Math object>"
      ],
      "text/latex": [
       "$\\displaystyle {0.7784093390463191} ^ 3 + {29.69504411176944} ^ 3 + ({-29.6766882506001}) ^ 3 = 49$"
      ]
     },
     "metadata": {}
    },
    {
     "output_type": "display_data",
     "data": {
      "text/plain": [
       "<IPython.core.display.Math object>"
      ],
      "text/latex": [
       "$\\displaystyle \\text{or}$"
      ]
     },
     "metadata": {}
    },
    {
     "output_type": "display_data",
     "data": {
      "text/plain": [
       "<IPython.core.display.Math object>"
      ],
      "text/latex": [
       "$\\displaystyle {0.7784093390463191} ^ 3 + {29.69504411176944} ^ 3 + ({14.8383441253 - 25.7007659252108 i}) ^ 3 = 49$"
      ]
     },
     "metadata": {}
    },
    {
     "output_type": "display_data",
     "data": {
      "text/plain": [
       "<IPython.core.display.Math object>"
      ],
      "text/latex": [
       "$\\displaystyle \\text{or}$"
      ]
     },
     "metadata": {}
    },
    {
     "output_type": "display_data",
     "data": {
      "text/plain": [
       "<IPython.core.display.Math object>"
      ],
      "text/latex": [
       "$\\displaystyle {0.7784093390463191} ^ 3 + {29.69504411176944} ^ 3 + ({14.8383441253 + 25.7007659252108 i}) ^ 3 = 49$"
      ]
     },
     "metadata": {}
    },
    {
     "output_type": "display_data",
     "data": {
      "text/plain": [
       "<IPython.core.display.Math object>"
      ],
      "text/latex": [
       "$\\displaystyle \\text{-----}$"
      ]
     },
     "metadata": {}
    },
    {
     "output_type": "display_data",
     "data": {
      "text/plain": [
       "<IPython.core.display.Math object>"
      ],
      "text/latex": [
       "$\\displaystyle {0.0007361277144470419} ^ 3 + {746.5451866001106} ^ 3 + ({-746.545156695609}) ^ 3 = 50$"
      ]
     },
     "metadata": {}
    },
    {
     "output_type": "display_data",
     "data": {
      "text/plain": [
       "<IPython.core.display.Math object>"
      ],
      "text/latex": [
       "$\\displaystyle \\text{or}$"
      ]
     },
     "metadata": {}
    },
    {
     "output_type": "display_data",
     "data": {
      "text/plain": [
       "<IPython.core.display.Math object>"
      ],
      "text/latex": [
       "$\\displaystyle {0.0007361277144470419} ^ 3 + {746.5451866001106} ^ 3 + ({373.272578347804 - 646.527070770632 i}) ^ 3 = 50$"
      ]
     },
     "metadata": {}
    },
    {
     "output_type": "display_data",
     "data": {
      "text/plain": [
       "<IPython.core.display.Math object>"
      ],
      "text/latex": [
       "$\\displaystyle \\text{or}$"
      ]
     },
     "metadata": {}
    },
    {
     "output_type": "display_data",
     "data": {
      "text/plain": [
       "<IPython.core.display.Math object>"
      ],
      "text/latex": [
       "$\\displaystyle {0.0007361277144470419} ^ 3 + {746.5451866001106} ^ 3 + ({373.272578347804 + 646.527070770632 i}) ^ 3 = 50$"
      ]
     },
     "metadata": {}
    },
    {
     "output_type": "display_data",
     "data": {
      "text/plain": [
       "<IPython.core.display.Math object>"
      ],
      "text/latex": [
       "$\\displaystyle \\text{-----}$"
      ]
     },
     "metadata": {}
    },
    {
     "output_type": "display_data",
     "data": {
      "text/plain": [
       "<IPython.core.display.Math object>"
      ],
      "text/latex": [
       "$\\displaystyle {8.38935206675096} ^ 3 + {0.0004493414732683244} ^ 3 + ({-8.1405018204697}) ^ 3 = 51$"
      ]
     },
     "metadata": {}
    },
    {
     "output_type": "display_data",
     "data": {
      "text/plain": [
       "<IPython.core.display.Math object>"
      ],
      "text/latex": [
       "$\\displaystyle \\text{or}$"
      ]
     },
     "metadata": {}
    },
    {
     "output_type": "display_data",
     "data": {
      "text/plain": [
       "<IPython.core.display.Math object>"
      ],
      "text/latex": [
       "$\\displaystyle {8.38935206675096} ^ 3 + {0.0004493414732683244} ^ 3 + ({4.07025091023485 - 7.04988137608023 i}) ^ 3 = 51$"
      ]
     },
     "metadata": {}
    },
    {
     "output_type": "display_data",
     "data": {
      "text/plain": [
       "<IPython.core.display.Math object>"
      ],
      "text/latex": [
       "$\\displaystyle \\text{or}$"
      ]
     },
     "metadata": {}
    },
    {
     "output_type": "display_data",
     "data": {
      "text/plain": [
       "<IPython.core.display.Math object>"
      ],
      "text/latex": [
       "$\\displaystyle {8.38935206675096} ^ 3 + {0.0004493414732683244} ^ 3 + ({4.07025091023485 + 7.04988137608023 i}) ^ 3 = 51$"
      ]
     },
     "metadata": {}
    },
    {
     "output_type": "display_data",
     "data": {
      "text/plain": [
       "<IPython.core.display.Math object>"
      ],
      "text/latex": [
       "$\\displaystyle \\text{-----}$"
      ]
     },
     "metadata": {}
    },
    {
     "output_type": "display_data",
     "data": {
      "text/plain": [
       "<IPython.core.display.Math object>"
      ],
      "text/latex": [
       "$\\displaystyle {32.52427842311594} ^ 3 + {0.0005682042387260721} ^ 3 + ({-32.5078843950102}) ^ 3 = 52$"
      ]
     },
     "metadata": {}
    },
    {
     "output_type": "display_data",
     "data": {
      "text/plain": [
       "<IPython.core.display.Math object>"
      ],
      "text/latex": [
       "$\\displaystyle \\text{or}$"
      ]
     },
     "metadata": {}
    },
    {
     "output_type": "display_data",
     "data": {
      "text/plain": [
       "<IPython.core.display.Math object>"
      ],
      "text/latex": [
       "$\\displaystyle {32.52427842311594} ^ 3 + {0.0005682042387260721} ^ 3 + ({16.2539421975051 - 28.1526537093665 i}) ^ 3 = 52$"
      ]
     },
     "metadata": {}
    },
    {
     "output_type": "display_data",
     "data": {
      "text/plain": [
       "<IPython.core.display.Math object>"
      ],
      "text/latex": [
       "$\\displaystyle \\text{or}$"
      ]
     },
     "metadata": {}
    },
    {
     "output_type": "display_data",
     "data": {
      "text/plain": [
       "<IPython.core.display.Math object>"
      ],
      "text/latex": [
       "$\\displaystyle {32.52427842311594} ^ 3 + {0.0005682042387260721} ^ 3 + ({16.2539421975051 + 28.1526537093665 i}) ^ 3 = 52$"
      ]
     },
     "metadata": {}
    },
    {
     "output_type": "display_data",
     "data": {
      "text/plain": [
       "<IPython.core.display.Math object>"
      ],
      "text/latex": [
       "$\\displaystyle \\text{-----}$"
      ]
     },
     "metadata": {}
    },
    {
     "output_type": "display_data",
     "data": {
      "text/plain": [
       "<IPython.core.display.Math object>"
      ],
      "text/latex": [
       "$\\displaystyle {0.0032109388892674205} ^ 3 + {0.007286514597417474} ^ 3 + ({3.75628574429951}) ^ 3 = 53$"
      ]
     },
     "metadata": {}
    },
    {
     "output_type": "display_data",
     "data": {
      "text/plain": [
       "<IPython.core.display.Math object>"
      ],
      "text/latex": [
       "$\\displaystyle \\text{or}$"
      ]
     },
     "metadata": {}
    },
    {
     "output_type": "display_data",
     "data": {
      "text/plain": [
       "<IPython.core.display.Math object>"
      ],
      "text/latex": [
       "$\\displaystyle {0.0032109388892674205} ^ 3 + {0.007286514597417474} ^ 3 + ({-1.87814287214975 - 3.25303887843671 i}) ^ 3 = 53$"
      ]
     },
     "metadata": {}
    },
    {
     "output_type": "display_data",
     "data": {
      "text/plain": [
       "<IPython.core.display.Math object>"
      ],
      "text/latex": [
       "$\\displaystyle \\text{or}$"
      ]
     },
     "metadata": {}
    },
    {
     "output_type": "display_data",
     "data": {
      "text/plain": [
       "<IPython.core.display.Math object>"
      ],
      "text/latex": [
       "$\\displaystyle {0.0032109388892674205} ^ 3 + {0.007286514597417474} ^ 3 + ({-1.87814287214975 + 3.25303887843671 i}) ^ 3 = 53$"
      ]
     },
     "metadata": {}
    },
    {
     "output_type": "display_data",
     "data": {
      "text/plain": [
       "<IPython.core.display.Math object>"
      ],
      "text/latex": [
       "$\\displaystyle \\text{-----}$"
      ]
     },
     "metadata": {}
    },
    {
     "output_type": "display_data",
     "data": {
      "text/plain": [
       "<IPython.core.display.Math object>"
      ],
      "text/latex": [
       "$\\displaystyle {110.11907189586955} ^ 3 + {0.018310261129409987} ^ 3 + ({-110.117587488078}) ^ 3 = 54$"
      ]
     },
     "metadata": {}
    },
    {
     "output_type": "display_data",
     "data": {
      "text/plain": [
       "<IPython.core.display.Math object>"
      ],
      "text/latex": [
       "$\\displaystyle \\text{or}$"
      ]
     },
     "metadata": {}
    },
    {
     "output_type": "display_data",
     "data": {
      "text/plain": [
       "<IPython.core.display.Math object>"
      ],
      "text/latex": [
       "$\\displaystyle {110.11907189586955} ^ 3 + {0.018310261129409987} ^ 3 + ({55.0587937440392 - 95.3646281681313 i}) ^ 3 = 54$"
      ]
     },
     "metadata": {}
    },
    {
     "output_type": "display_data",
     "data": {
      "text/plain": [
       "<IPython.core.display.Math object>"
      ],
      "text/latex": [
       "$\\displaystyle \\text{or}$"
      ]
     },
     "metadata": {}
    },
    {
     "output_type": "display_data",
     "data": {
      "text/plain": [
       "<IPython.core.display.Math object>"
      ],
      "text/latex": [
       "$\\displaystyle {110.11907189586955} ^ 3 + {0.018310261129409987} ^ 3 + ({55.0587937440392 + 95.3646281681313 i}) ^ 3 = 54$"
      ]
     },
     "metadata": {}
    },
    {
     "output_type": "display_data",
     "data": {
      "text/plain": [
       "<IPython.core.display.Math object>"
      ],
      "text/latex": [
       "$\\displaystyle \\text{-----}$"
      ]
     },
     "metadata": {}
    },
    {
     "output_type": "display_data",
     "data": {
      "text/plain": [
       "<IPython.core.display.Math object>"
      ],
      "text/latex": [
       "$\\displaystyle {555.9014587612128} ^ 3 + {0.03238079000083321} ^ 3 + ({-555.901399435142}) ^ 3 = 55$"
      ]
     },
     "metadata": {}
    },
    {
     "output_type": "display_data",
     "data": {
      "text/plain": [
       "<IPython.core.display.Math object>"
      ],
      "text/latex": [
       "$\\displaystyle \\text{or}$"
      ]
     },
     "metadata": {}
    },
    {
     "output_type": "display_data",
     "data": {
      "text/plain": [
       "<IPython.core.display.Math object>"
      ],
      "text/latex": [
       "$\\displaystyle {555.9014587612128} ^ 3 + {0.03238079000083321} ^ 3 + ({277.950699717571 - 481.424733910154 i}) ^ 3 = 55$"
      ]
     },
     "metadata": {}
    },
    {
     "output_type": "display_data",
     "data": {
      "text/plain": [
       "<IPython.core.display.Math object>"
      ],
      "text/latex": [
       "$\\displaystyle \\text{or}$"
      ]
     },
     "metadata": {}
    },
    {
     "output_type": "display_data",
     "data": {
      "text/plain": [
       "<IPython.core.display.Math object>"
      ],
      "text/latex": [
       "$\\displaystyle {555.9014587612128} ^ 3 + {0.03238079000083321} ^ 3 + ({277.950699717571 + 481.424733910154 i}) ^ 3 = 55$"
      ]
     },
     "metadata": {}
    },
    {
     "output_type": "display_data",
     "data": {
      "text/plain": [
       "<IPython.core.display.Math object>"
      ],
      "text/latex": [
       "$\\displaystyle \\text{-----}$"
      ]
     },
     "metadata": {}
    },
    {
     "output_type": "display_data",
     "data": {
      "text/plain": [
       "<IPython.core.display.Math object>"
      ],
      "text/latex": [
       "$\\displaystyle {35.161515090781904} ^ 3 + {0.6491290058317845} ^ 3 + ({-35.1464839879737}) ^ 3 = 56$"
      ]
     },
     "metadata": {}
    },
    {
     "output_type": "display_data",
     "data": {
      "text/plain": [
       "<IPython.core.display.Math object>"
      ],
      "text/latex": [
       "$\\displaystyle \\text{or}$"
      ]
     },
     "metadata": {}
    },
    {
     "output_type": "display_data",
     "data": {
      "text/plain": [
       "<IPython.core.display.Math object>"
      ],
      "text/latex": [
       "$\\displaystyle {35.161515090781904} ^ 3 + {0.6491290058317845} ^ 3 + ({17.5732419939869 - 30.4377479872882 i}) ^ 3 = 56$"
      ]
     },
     "metadata": {}
    },
    {
     "output_type": "display_data",
     "data": {
      "text/plain": [
       "<IPython.core.display.Math object>"
      ],
      "text/latex": [
       "$\\displaystyle \\text{or}$"
      ]
     },
     "metadata": {}
    },
    {
     "output_type": "display_data",
     "data": {
      "text/plain": [
       "<IPython.core.display.Math object>"
      ],
      "text/latex": [
       "$\\displaystyle {35.161515090781904} ^ 3 + {0.6491290058317845} ^ 3 + ({17.5732419939869 + 30.4377479872882 i}) ^ 3 = 56$"
      ]
     },
     "metadata": {}
    },
    {
     "output_type": "display_data",
     "data": {
      "text/plain": [
       "<IPython.core.display.Math object>"
      ],
      "text/latex": [
       "$\\displaystyle \\text{-----}$"
      ]
     },
     "metadata": {}
    },
    {
     "output_type": "display_data",
     "data": {
      "text/plain": [
       "<IPython.core.display.Math object>"
      ],
      "text/latex": [
       "$\\displaystyle {0.005979771266245469} ^ 3 + {0.0004975145621756538} ^ 3 + ({3.84850112646177}) ^ 3 = 57$"
      ]
     },
     "metadata": {}
    },
    {
     "output_type": "display_data",
     "data": {
      "text/plain": [
       "<IPython.core.display.Math object>"
      ],
      "text/latex": [
       "$\\displaystyle \\text{or}$"
      ]
     },
     "metadata": {}
    },
    {
     "output_type": "display_data",
     "data": {
      "text/plain": [
       "<IPython.core.display.Math object>"
      ],
      "text/latex": [
       "$\\displaystyle {0.005979771266245469} ^ 3 + {0.0004975145621756538} ^ 3 + ({-1.92425056323089 - 3.33289974200892 i}) ^ 3 = 57$"
      ]
     },
     "metadata": {}
    },
    {
     "output_type": "display_data",
     "data": {
      "text/plain": [
       "<IPython.core.display.Math object>"
      ],
      "text/latex": [
       "$\\displaystyle \\text{or}$"
      ]
     },
     "metadata": {}
    },
    {
     "output_type": "display_data",
     "data": {
      "text/plain": [
       "<IPython.core.display.Math object>"
      ],
      "text/latex": [
       "$\\displaystyle {0.005979771266245469} ^ 3 + {0.0004975145621756538} ^ 3 + ({-1.92425056323089 + 3.33289974200892 i}) ^ 3 = 57$"
      ]
     },
     "metadata": {}
    },
    {
     "output_type": "display_data",
     "data": {
      "text/plain": [
       "<IPython.core.display.Math object>"
      ],
      "text/latex": [
       "$\\displaystyle \\text{-----}$"
      ]
     },
     "metadata": {}
    },
    {
     "output_type": "display_data",
     "data": {
      "text/plain": [
       "<IPython.core.display.Math object>"
      ],
      "text/latex": [
       "$\\displaystyle {0.009829615988924588} ^ 3 + {0.08708979885644426} ^ 3 + ({3.87086192470198}) ^ 3 = 58$"
      ]
     },
     "metadata": {}
    },
    {
     "output_type": "display_data",
     "data": {
      "text/plain": [
       "<IPython.core.display.Math object>"
      ],
      "text/latex": [
       "$\\displaystyle \\text{or}$"
      ]
     },
     "metadata": {}
    },
    {
     "output_type": "display_data",
     "data": {
      "text/plain": [
       "<IPython.core.display.Math object>"
      ],
      "text/latex": [
       "$\\displaystyle {0.009829615988924588} ^ 3 + {0.08708979885644426} ^ 3 + ({-1.93543096235099 - 3.35226476133384 i}) ^ 3 = 58$"
      ]
     },
     "metadata": {}
    },
    {
     "output_type": "display_data",
     "data": {
      "text/plain": [
       "<IPython.core.display.Math object>"
      ],
      "text/latex": [
       "$\\displaystyle \\text{or}$"
      ]
     },
     "metadata": {}
    },
    {
     "output_type": "display_data",
     "data": {
      "text/plain": [
       "<IPython.core.display.Math object>"
      ],
      "text/latex": [
       "$\\displaystyle {0.009829615988924588} ^ 3 + {0.08708979885644426} ^ 3 + ({-1.93543096235099 + 3.35226476133384 i}) ^ 3 = 58$"
      ]
     },
     "metadata": {}
    },
    {
     "output_type": "display_data",
     "data": {
      "text/plain": [
       "<IPython.core.display.Math object>"
      ],
      "text/latex": [
       "$\\displaystyle \\text{-----}$"
      ]
     },
     "metadata": {}
    },
    {
     "output_type": "display_data",
     "data": {
      "text/plain": [
       "<IPython.core.display.Math object>"
      ],
      "text/latex": [
       "$\\displaystyle {3.921072036822326} ^ 3 + {0.02363744047588491} ^ 3 + ({-1.08738614589501}) ^ 3 = 59$"
      ]
     },
     "metadata": {}
    },
    {
     "output_type": "display_data",
     "data": {
      "text/plain": [
       "<IPython.core.display.Math object>"
      ],
      "text/latex": [
       "$\\displaystyle \\text{or}$"
      ]
     },
     "metadata": {}
    },
    {
     "output_type": "display_data",
     "data": {
      "text/plain": [
       "<IPython.core.display.Math object>"
      ],
      "text/latex": [
       "$\\displaystyle {3.921072036822326} ^ 3 + {0.02363744047588491} ^ 3 + ({0.543693072947503 - 0.941704026068327 i}) ^ 3 = 59$"
      ]
     },
     "metadata": {}
    },
    {
     "output_type": "display_data",
     "data": {
      "text/plain": [
       "<IPython.core.display.Math object>"
      ],
      "text/latex": [
       "$\\displaystyle \\text{or}$"
      ]
     },
     "metadata": {}
    },
    {
     "output_type": "display_data",
     "data": {
      "text/plain": [
       "<IPython.core.display.Math object>"
      ],
      "text/latex": [
       "$\\displaystyle {3.921072036822326} ^ 3 + {0.02363744047588491} ^ 3 + ({0.543693072947503 + 0.941704026068327 i}) ^ 3 = 59$"
      ]
     },
     "metadata": {}
    },
    {
     "output_type": "display_data",
     "data": {
      "text/plain": [
       "<IPython.core.display.Math object>"
      ],
      "text/latex": [
       "$\\displaystyle \\text{-----}$"
      ]
     },
     "metadata": {}
    },
    {
     "output_type": "display_data",
     "data": {
      "text/plain": [
       "<IPython.core.display.Math object>"
      ],
      "text/latex": [
       "$\\displaystyle {0.0013762396626958828} ^ 3 + {17.78024055705031} ^ 3 + ({-17.7167503937424}) ^ 3 = 60$"
      ]
     },
     "metadata": {}
    },
    {
     "output_type": "display_data",
     "data": {
      "text/plain": [
       "<IPython.core.display.Math object>"
      ],
      "text/latex": [
       "$\\displaystyle \\text{or}$"
      ]
     },
     "metadata": {}
    },
    {
     "output_type": "display_data",
     "data": {
      "text/plain": [
       "<IPython.core.display.Math object>"
      ],
      "text/latex": [
       "$\\displaystyle {0.0013762396626958828} ^ 3 + {17.78024055705031} ^ 3 + ({8.85837519687118 - 15.3431559134888 i}) ^ 3 = 60$"
      ]
     },
     "metadata": {}
    },
    {
     "output_type": "display_data",
     "data": {
      "text/plain": [
       "<IPython.core.display.Math object>"
      ],
      "text/latex": [
       "$\\displaystyle \\text{or}$"
      ]
     },
     "metadata": {}
    },
    {
     "output_type": "display_data",
     "data": {
      "text/plain": [
       "<IPython.core.display.Math object>"
      ],
      "text/latex": [
       "$\\displaystyle {0.0013762396626958828} ^ 3 + {17.78024055705031} ^ 3 + ({8.85837519687118 + 15.3431559134888 i}) ^ 3 = 60$"
      ]
     },
     "metadata": {}
    },
    {
     "output_type": "display_data",
     "data": {
      "text/plain": [
       "<IPython.core.display.Math object>"
      ],
      "text/latex": [
       "$\\displaystyle \\text{-----}$"
      ]
     },
     "metadata": {}
    },
    {
     "output_type": "display_data",
     "data": {
      "text/plain": [
       "<IPython.core.display.Math object>"
      ],
      "text/latex": [
       "$\\displaystyle {0.004801335140525295} ^ 3 + {0.3263197059996872} ^ 3 + ({3.93574957736757}) ^ 3 = 61$"
      ]
     },
     "metadata": {}
    },
    {
     "output_type": "display_data",
     "data": {
      "text/plain": [
       "<IPython.core.display.Math object>"
      ],
      "text/latex": [
       "$\\displaystyle \\text{or}$"
      ]
     },
     "metadata": {}
    },
    {
     "output_type": "display_data",
     "data": {
      "text/plain": [
       "<IPython.core.display.Math object>"
      ],
      "text/latex": [
       "$\\displaystyle {0.004801335140525295} ^ 3 + {0.3263197059996872} ^ 3 + ({-1.96787478868379 - 3.40845911693419 i}) ^ 3 = 61$"
      ]
     },
     "metadata": {}
    },
    {
     "output_type": "display_data",
     "data": {
      "text/plain": [
       "<IPython.core.display.Math object>"
      ],
      "text/latex": [
       "$\\displaystyle \\text{or}$"
      ]
     },
     "metadata": {}
    },
    {
     "output_type": "display_data",
     "data": {
      "text/plain": [
       "<IPython.core.display.Math object>"
      ],
      "text/latex": [
       "$\\displaystyle {0.004801335140525295} ^ 3 + {0.3263197059996872} ^ 3 + ({-1.96787478868379 + 3.40845911693419 i}) ^ 3 = 61$"
      ]
     },
     "metadata": {}
    },
    {
     "output_type": "display_data",
     "data": {
      "text/plain": [
       "<IPython.core.display.Math object>"
      ],
      "text/latex": [
       "$\\displaystyle \\text{-----}$"
      ]
     },
     "metadata": {}
    },
    {
     "output_type": "display_data",
     "data": {
      "text/plain": [
       "<IPython.core.display.Math object>"
      ],
      "text/latex": [
       "$\\displaystyle {7.192290814527464} ^ 3 + {0.06143828624698107} ^ 3 + ({-6.76826753775488}) ^ 3 = 62$"
      ]
     },
     "metadata": {}
    },
    {
     "output_type": "display_data",
     "data": {
      "text/plain": [
       "<IPython.core.display.Math object>"
      ],
      "text/latex": [
       "$\\displaystyle \\text{or}$"
      ]
     },
     "metadata": {}
    },
    {
     "output_type": "display_data",
     "data": {
      "text/plain": [
       "<IPython.core.display.Math object>"
      ],
      "text/latex": [
       "$\\displaystyle {7.192290814527464} ^ 3 + {0.06143828624698107} ^ 3 + ({3.38413376887744 - 5.86149162730527 i}) ^ 3 = 62$"
      ]
     },
     "metadata": {}
    },
    {
     "output_type": "display_data",
     "data": {
      "text/plain": [
       "<IPython.core.display.Math object>"
      ],
      "text/latex": [
       "$\\displaystyle \\text{or}$"
      ]
     },
     "metadata": {}
    },
    {
     "output_type": "display_data",
     "data": {
      "text/plain": [
       "<IPython.core.display.Math object>"
      ],
      "text/latex": [
       "$\\displaystyle {7.192290814527464} ^ 3 + {0.06143828624698107} ^ 3 + ({3.38413376887744 + 5.86149162730527 i}) ^ 3 = 62$"
      ]
     },
     "metadata": {}
    },
    {
     "output_type": "display_data",
     "data": {
      "text/plain": [
       "<IPython.core.display.Math object>"
      ],
      "text/latex": [
       "$\\displaystyle \\text{-----}$"
      ]
     },
     "metadata": {}
    },
    {
     "output_type": "display_data",
     "data": {
      "text/plain": [
       "<IPython.core.display.Math object>"
      ],
      "text/latex": [
       "$\\displaystyle {0.7681053350587232} ^ 3 + {7.959562694454384} ^ 3 + ({-7.61585095871376}) ^ 3 = 63$"
      ]
     },
     "metadata": {}
    },
    {
     "output_type": "display_data",
     "data": {
      "text/plain": [
       "<IPython.core.display.Math object>"
      ],
      "text/latex": [
       "$\\displaystyle \\text{or}$"
      ]
     },
     "metadata": {}
    },
    {
     "output_type": "display_data",
     "data": {
      "text/plain": [
       "<IPython.core.display.Math object>"
      ],
      "text/latex": [
       "$\\displaystyle {0.7681053350587232} ^ 3 + {7.959562694454384} ^ 3 + ({3.80792547935688 - 6.59552040168219 i}) ^ 3 = 63$"
      ]
     },
     "metadata": {}
    },
    {
     "output_type": "display_data",
     "data": {
      "text/plain": [
       "<IPython.core.display.Math object>"
      ],
      "text/latex": [
       "$\\displaystyle \\text{or}$"
      ]
     },
     "metadata": {}
    },
    {
     "output_type": "display_data",
     "data": {
      "text/plain": [
       "<IPython.core.display.Math object>"
      ],
      "text/latex": [
       "$\\displaystyle {0.7681053350587232} ^ 3 + {7.959562694454384} ^ 3 + ({3.80792547935688 + 6.59552040168219 i}) ^ 3 = 63$"
      ]
     },
     "metadata": {}
    },
    {
     "output_type": "display_data",
     "data": {
      "text/plain": [
       "<IPython.core.display.Math object>"
      ],
      "text/latex": [
       "$\\displaystyle \\text{-----}$"
      ]
     },
     "metadata": {}
    },
    {
     "output_type": "display_data",
     "data": {
      "text/plain": [
       "<IPython.core.display.Math object>"
      ],
      "text/latex": [
       "$\\displaystyle {0.006417182591351866} ^ 3 + {2.3455694793436144} ^ 3 + ({3.71074037978418}) ^ 3 = 64$"
      ]
     },
     "metadata": {}
    },
    {
     "output_type": "display_data",
     "data": {
      "text/plain": [
       "<IPython.core.display.Math object>"
      ],
      "text/latex": [
       "$\\displaystyle \\text{or}$"
      ]
     },
     "metadata": {}
    },
    {
     "output_type": "display_data",
     "data": {
      "text/plain": [
       "<IPython.core.display.Math object>"
      ],
      "text/latex": [
       "$\\displaystyle {0.006417182591351866} ^ 3 + {2.3455694793436144} ^ 3 + ({-1.85537018989209 - 3.21359543574182 i}) ^ 3 = 64$"
      ]
     },
     "metadata": {}
    },
    {
     "output_type": "display_data",
     "data": {
      "text/plain": [
       "<IPython.core.display.Math object>"
      ],
      "text/latex": [
       "$\\displaystyle \\text{or}$"
      ]
     },
     "metadata": {}
    },
    {
     "output_type": "display_data",
     "data": {
      "text/plain": [
       "<IPython.core.display.Math object>"
      ],
      "text/latex": [
       "$\\displaystyle {0.006417182591351866} ^ 3 + {2.3455694793436144} ^ 3 + ({-1.85537018989209 + 3.21359543574182 i}) ^ 3 = 64$"
      ]
     },
     "metadata": {}
    },
    {
     "output_type": "display_data",
     "data": {
      "text/plain": [
       "<IPython.core.display.Math object>"
      ],
      "text/latex": [
       "$\\displaystyle \\text{-----}$"
      ]
     },
     "metadata": {}
    },
    {
     "output_type": "display_data",
     "data": {
      "text/plain": [
       "<IPython.core.display.Math object>"
      ],
      "text/latex": [
       "$\\displaystyle {0.07573221882343303} ^ 3 + {0.04454710624947533} ^ 3 + ({4.0207149798504}) ^ 3 = 65$"
      ]
     },
     "metadata": {}
    },
    {
     "output_type": "display_data",
     "data": {
      "text/plain": [
       "<IPython.core.display.Math object>"
      ],
      "text/latex": [
       "$\\displaystyle \\text{or}$"
      ]
     },
     "metadata": {}
    },
    {
     "output_type": "display_data",
     "data": {
      "text/plain": [
       "<IPython.core.display.Math object>"
      ],
      "text/latex": [
       "$\\displaystyle {0.07573221882343303} ^ 3 + {0.04454710624947533} ^ 3 + ({-2.0103574899252 - 3.48204131392708 i}) ^ 3 = 65$"
      ]
     },
     "metadata": {}
    },
    {
     "output_type": "display_data",
     "data": {
      "text/plain": [
       "<IPython.core.display.Math object>"
      ],
      "text/latex": [
       "$\\displaystyle \\text{or}$"
      ]
     },
     "metadata": {}
    },
    {
     "output_type": "display_data",
     "data": {
      "text/plain": [
       "<IPython.core.display.Math object>"
      ],
      "text/latex": [
       "$\\displaystyle {0.07573221882343303} ^ 3 + {0.04454710624947533} ^ 3 + ({-2.0103574899252 + 3.48204131392708 i}) ^ 3 = 65$"
      ]
     },
     "metadata": {}
    },
    {
     "output_type": "display_data",
     "data": {
      "text/plain": [
       "<IPython.core.display.Math object>"
      ],
      "text/latex": [
       "$\\displaystyle \\text{-----}$"
      ]
     },
     "metadata": {}
    },
    {
     "output_type": "display_data",
     "data": {
      "text/plain": [
       "<IPython.core.display.Math object>"
      ],
      "text/latex": [
       "$\\displaystyle {0.007131431488364959} ^ 3 + {90.80218834342864} ^ 3 + ({-90.7995199933286}) ^ 3 = 66$"
      ]
     },
     "metadata": {}
    },
    {
     "output_type": "display_data",
     "data": {
      "text/plain": [
       "<IPython.core.display.Math object>"
      ],
      "text/latex": [
       "$\\displaystyle \\text{or}$"
      ]
     },
     "metadata": {}
    },
    {
     "output_type": "display_data",
     "data": {
      "text/plain": [
       "<IPython.core.display.Math object>"
      ],
      "text/latex": [
       "$\\displaystyle {0.007131431488364959} ^ 3 + {90.80218834342864} ^ 3 + ({45.3997599966643 - 78.6346909656556 i}) ^ 3 = 66$"
      ]
     },
     "metadata": {}
    },
    {
     "output_type": "display_data",
     "data": {
      "text/plain": [
       "<IPython.core.display.Math object>"
      ],
      "text/latex": [
       "$\\displaystyle \\text{or}$"
      ]
     },
     "metadata": {}
    },
    {
     "output_type": "display_data",
     "data": {
      "text/plain": [
       "<IPython.core.display.Math object>"
      ],
      "text/latex": [
       "$\\displaystyle {0.007131431488364959} ^ 3 + {90.80218834342864} ^ 3 + ({45.3997599966643 + 78.6346909656556 i}) ^ 3 = 66$"
      ]
     },
     "metadata": {}
    },
    {
     "output_type": "display_data",
     "data": {
      "text/plain": [
       "<IPython.core.display.Math object>"
      ],
      "text/latex": [
       "$\\displaystyle \\text{-----}$"
      ]
     },
     "metadata": {}
    },
    {
     "output_type": "display_data",
     "data": {
      "text/plain": [
       "<IPython.core.display.Math object>"
      ],
      "text/latex": [
       "$\\displaystyle {902.8916582191424} ^ 3 + {7.409923174192693} ^ 3 + ({-902.891797183303}) ^ 3 = 67$"
      ]
     },
     "metadata": {}
    },
    {
     "output_type": "display_data",
     "data": {
      "text/plain": [
       "<IPython.core.display.Math object>"
      ],
      "text/latex": [
       "$\\displaystyle \\text{or}$"
      ]
     },
     "metadata": {}
    },
    {
     "output_type": "display_data",
     "data": {
      "text/plain": [
       "<IPython.core.display.Math object>"
      ],
      "text/latex": [
       "$\\displaystyle {902.8916582191424} ^ 3 + {7.409923174192693} ^ 3 + ({451.445898591651 - 781.927233229327 i}) ^ 3 = 67$"
      ]
     },
     "metadata": {}
    },
    {
     "output_type": "display_data",
     "data": {
      "text/plain": [
       "<IPython.core.display.Math object>"
      ],
      "text/latex": [
       "$\\displaystyle \\text{or}$"
      ]
     },
     "metadata": {}
    },
    {
     "output_type": "display_data",
     "data": {
      "text/plain": [
       "<IPython.core.display.Math object>"
      ],
      "text/latex": [
       "$\\displaystyle {902.8916582191424} ^ 3 + {7.409923174192693} ^ 3 + ({451.445898591651 + 781.927233229327 i}) ^ 3 = 67$"
      ]
     },
     "metadata": {}
    },
    {
     "output_type": "display_data",
     "data": {
      "text/plain": [
       "<IPython.core.display.Math object>"
      ],
      "text/latex": [
       "$\\displaystyle \\text{-----}$"
      ]
     },
     "metadata": {}
    },
    {
     "output_type": "display_data",
     "data": {
      "text/plain": [
       "<IPython.core.display.Math object>"
      ],
      "text/latex": [
       "$\\displaystyle {0.43207956073289155} ^ 3 + {0.0046728789964471905} ^ 3 + ({4.08004048438645}) ^ 3 = 68$"
      ]
     },
     "metadata": {}
    },
    {
     "output_type": "display_data",
     "data": {
      "text/plain": [
       "<IPython.core.display.Math object>"
      ],
      "text/latex": [
       "$\\displaystyle \\text{or}$"
      ]
     },
     "metadata": {}
    },
    {
     "output_type": "display_data",
     "data": {
      "text/plain": [
       "<IPython.core.display.Math object>"
      ],
      "text/latex": [
       "$\\displaystyle {0.43207956073289155} ^ 3 + {0.0046728789964471905} ^ 3 + ({-2.04002024219323 - 3.53341870794763 i}) ^ 3 = 68$"
      ]
     },
     "metadata": {}
    },
    {
     "output_type": "display_data",
     "data": {
      "text/plain": [
       "<IPython.core.display.Math object>"
      ],
      "text/latex": [
       "$\\displaystyle \\text{or}$"
      ]
     },
     "metadata": {}
    },
    {
     "output_type": "display_data",
     "data": {
      "text/plain": [
       "<IPython.core.display.Math object>"
      ],
      "text/latex": [
       "$\\displaystyle {0.43207956073289155} ^ 3 + {0.0046728789964471905} ^ 3 + ({-2.04002024219323 + 3.53341870794763 i}) ^ 3 = 68$"
      ]
     },
     "metadata": {}
    },
    {
     "output_type": "display_data",
     "data": {
      "text/plain": [
       "<IPython.core.display.Math object>"
      ],
      "text/latex": [
       "$\\displaystyle \\text{-----}$"
      ]
     },
     "metadata": {}
    },
    {
     "output_type": "display_data",
     "data": {
      "text/plain": [
       "<IPython.core.display.Math object>"
      ],
      "text/latex": [
       "$\\displaystyle {0.0005341258036586901} ^ 3 + {0.09759850067113635} ^ 3 + ({4.10154750880378}) ^ 3 = 69$"
      ]
     },
     "metadata": {}
    },
    {
     "output_type": "display_data",
     "data": {
      "text/plain": [
       "<IPython.core.display.Math object>"
      ],
      "text/latex": [
       "$\\displaystyle \\text{or}$"
      ]
     },
     "metadata": {}
    },
    {
     "output_type": "display_data",
     "data": {
      "text/plain": [
       "<IPython.core.display.Math object>"
      ],
      "text/latex": [
       "$\\displaystyle {0.0005341258036586901} ^ 3 + {0.09759850067113635} ^ 3 + ({-2.05077375440189 - 3.55204433745285 i}) ^ 3 = 69$"
      ]
     },
     "metadata": {}
    },
    {
     "output_type": "display_data",
     "data": {
      "text/plain": [
       "<IPython.core.display.Math object>"
      ],
      "text/latex": [
       "$\\displaystyle \\text{or}$"
      ]
     },
     "metadata": {}
    },
    {
     "output_type": "display_data",
     "data": {
      "text/plain": [
       "<IPython.core.display.Math object>"
      ],
      "text/latex": [
       "$\\displaystyle {0.0005341258036586901} ^ 3 + {0.09759850067113635} ^ 3 + ({-2.05077375440189 + 3.55204433745285 i}) ^ 3 = 69$"
      ]
     },
     "metadata": {}
    },
    {
     "output_type": "display_data",
     "data": {
      "text/plain": [
       "<IPython.core.display.Math object>"
      ],
      "text/latex": [
       "$\\displaystyle \\text{-----}$"
      ]
     },
     "metadata": {}
    },
    {
     "output_type": "display_data",
     "data": {
      "text/plain": [
       "<IPython.core.display.Math object>"
      ],
      "text/latex": [
       "$\\displaystyle {0.07456643398150437} ^ 3 + {0.00043294412763598603} ^ 3 + ({4.12127716318076}) ^ 3 = 70$"
      ]
     },
     "metadata": {}
    },
    {
     "output_type": "display_data",
     "data": {
      "text/plain": [
       "<IPython.core.display.Math object>"
      ],
      "text/latex": [
       "$\\displaystyle \\text{or}$"
      ]
     },
     "metadata": {}
    },
    {
     "output_type": "display_data",
     "data": {
      "text/plain": [
       "<IPython.core.display.Math object>"
      ],
      "text/latex": [
       "$\\displaystyle {0.07456643398150437} ^ 3 + {0.00043294412763598603} ^ 3 + ({-2.06063858159038 - 3.5691307193512 i}) ^ 3 = 70$"
      ]
     },
     "metadata": {}
    },
    {
     "output_type": "display_data",
     "data": {
      "text/plain": [
       "<IPython.core.display.Math object>"
      ],
      "text/latex": [
       "$\\displaystyle \\text{or}$"
      ]
     },
     "metadata": {}
    },
    {
     "output_type": "display_data",
     "data": {
      "text/plain": [
       "<IPython.core.display.Math object>"
      ],
      "text/latex": [
       "$\\displaystyle {0.07456643398150437} ^ 3 + {0.00043294412763598603} ^ 3 + ({-2.06063858159038 + 3.5691307193512 i}) ^ 3 = 70$"
      ]
     },
     "metadata": {}
    },
    {
     "output_type": "display_data",
     "data": {
      "text/plain": [
       "<IPython.core.display.Math object>"
      ],
      "text/latex": [
       "$\\displaystyle \\text{-----}$"
      ]
     },
     "metadata": {}
    },
    {
     "output_type": "display_data",
     "data": {
      "text/plain": [
       "<IPython.core.display.Math object>"
      ],
      "text/latex": [
       "$\\displaystyle {0.08816109848725102} ^ 3 + {0.007876227357538785} ^ 3 + ({4.14080441886096}) ^ 3 = 71$"
      ]
     },
     "metadata": {}
    },
    {
     "output_type": "display_data",
     "data": {
      "text/plain": [
       "<IPython.core.display.Math object>"
      ],
      "text/latex": [
       "$\\displaystyle \\text{or}$"
      ]
     },
     "metadata": {}
    },
    {
     "output_type": "display_data",
     "data": {
      "text/plain": [
       "<IPython.core.display.Math object>"
      ],
      "text/latex": [
       "$\\displaystyle {0.08816109848725102} ^ 3 + {0.007876227357538785} ^ 3 + ({-2.07040220943048 - 3.58604181883645 i}) ^ 3 = 71$"
      ]
     },
     "metadata": {}
    },
    {
     "output_type": "display_data",
     "data": {
      "text/plain": [
       "<IPython.core.display.Math object>"
      ],
      "text/latex": [
       "$\\displaystyle \\text{or}$"
      ]
     },
     "metadata": {}
    },
    {
     "output_type": "display_data",
     "data": {
      "text/plain": [
       "<IPython.core.display.Math object>"
      ],
      "text/latex": [
       "$\\displaystyle {0.08816109848725102} ^ 3 + {0.007876227357538785} ^ 3 + ({-2.07040220943048 + 3.58604181883645 i}) ^ 3 = 71$"
      ]
     },
     "metadata": {}
    },
    {
     "output_type": "display_data",
     "data": {
      "text/plain": [
       "<IPython.core.display.Math object>"
      ],
      "text/latex": [
       "$\\displaystyle \\text{-----}$"
      ]
     },
     "metadata": {}
    },
    {
     "output_type": "display_data",
     "data": {
      "text/plain": [
       "<IPython.core.display.Math object>"
      ],
      "text/latex": [
       "$\\displaystyle {1.168754811569268} ^ 3 + {9.590853045386392} ^ 3 + ({-9.32862021372017}) ^ 3 = 72$"
      ]
     },
     "metadata": {}
    },
    {
     "output_type": "display_data",
     "data": {
      "text/plain": [
       "<IPython.core.display.Math object>"
      ],
      "text/latex": [
       "$\\displaystyle \\text{or}$"
      ]
     },
     "metadata": {}
    },
    {
     "output_type": "display_data",
     "data": {
      "text/plain": [
       "<IPython.core.display.Math object>"
      ],
      "text/latex": [
       "$\\displaystyle {1.168754811569268} ^ 3 + {9.590853045386392} ^ 3 + ({4.66431010686008 - 8.07882208733868 i}) ^ 3 = 72$"
      ]
     },
     "metadata": {}
    },
    {
     "output_type": "display_data",
     "data": {
      "text/plain": [
       "<IPython.core.display.Math object>"
      ],
      "text/latex": [
       "$\\displaystyle \\text{or}$"
      ]
     },
     "metadata": {}
    },
    {
     "output_type": "display_data",
     "data": {
      "text/plain": [
       "<IPython.core.display.Math object>"
      ],
      "text/latex": [
       "$\\displaystyle {1.168754811569268} ^ 3 + {9.590853045386392} ^ 3 + ({4.66431010686008 + 8.07882208733868 i}) ^ 3 = 72$"
      ]
     },
     "metadata": {}
    },
    {
     "output_type": "display_data",
     "data": {
      "text/plain": [
       "<IPython.core.display.Math object>"
      ],
      "text/latex": [
       "$\\displaystyle \\text{-----}$"
      ]
     },
     "metadata": {}
    },
    {
     "output_type": "display_data",
     "data": {
      "text/plain": [
       "<IPython.core.display.Math object>"
      ],
      "text/latex": [
       "$\\displaystyle {0.0071897148364208786} ^ 3 + {1.2020445997550067} ^ 3 + ({4.14592723576297}) ^ 3 = 73$"
      ]
     },
     "metadata": {}
    },
    {
     "output_type": "display_data",
     "data": {
      "text/plain": [
       "<IPython.core.display.Math object>"
      ],
      "text/latex": [
       "$\\displaystyle \\text{or}$"
      ]
     },
     "metadata": {}
    },
    {
     "output_type": "display_data",
     "data": {
      "text/plain": [
       "<IPython.core.display.Math object>"
      ],
      "text/latex": [
       "$\\displaystyle {0.0071897148364208786} ^ 3 + {1.2020445997550067} ^ 3 + ({-2.07296361788149 - 3.59047830841253 i}) ^ 3 = 73$"
      ]
     },
     "metadata": {}
    },
    {
     "output_type": "display_data",
     "data": {
      "text/plain": [
       "<IPython.core.display.Math object>"
      ],
      "text/latex": [
       "$\\displaystyle \\text{or}$"
      ]
     },
     "metadata": {}
    },
    {
     "output_type": "display_data",
     "data": {
      "text/plain": [
       "<IPython.core.display.Math object>"
      ],
      "text/latex": [
       "$\\displaystyle {0.0071897148364208786} ^ 3 + {1.2020445997550067} ^ 3 + ({-2.07296361788149 + 3.59047830841253 i}) ^ 3 = 73$"
      ]
     },
     "metadata": {}
    },
    {
     "output_type": "display_data",
     "data": {
      "text/plain": [
       "<IPython.core.display.Math object>"
      ],
      "text/latex": [
       "$\\displaystyle \\text{-----}$"
      ]
     },
     "metadata": {}
    },
    {
     "output_type": "display_data",
     "data": {
      "text/plain": [
       "<IPython.core.display.Math object>"
      ],
      "text/latex": [
       "$\\displaystyle {46.589822450440856} ^ 3 + {0.0007212670043483933} ^ 3 + ({-46.5784557526091}) ^ 3 = 74$"
      ]
     },
     "metadata": {}
    },
    {
     "output_type": "display_data",
     "data": {
      "text/plain": [
       "<IPython.core.display.Math object>"
      ],
      "text/latex": [
       "$\\displaystyle \\text{or}$"
      ]
     },
     "metadata": {}
    },
    {
     "output_type": "display_data",
     "data": {
      "text/plain": [
       "<IPython.core.display.Math object>"
      ],
      "text/latex": [
       "$\\displaystyle {46.589822450440856} ^ 3 + {0.0007212670043483933} ^ 3 + ({23.2892278763045 - 40.3381259508089 i}) ^ 3 = 74$"
      ]
     },
     "metadata": {}
    },
    {
     "output_type": "display_data",
     "data": {
      "text/plain": [
       "<IPython.core.display.Math object>"
      ],
      "text/latex": [
       "$\\displaystyle \\text{or}$"
      ]
     },
     "metadata": {}
    },
    {
     "output_type": "display_data",
     "data": {
      "text/plain": [
       "<IPython.core.display.Math object>"
      ],
      "text/latex": [
       "$\\displaystyle {46.589822450440856} ^ 3 + {0.0007212670043483933} ^ 3 + ({23.2892278763045 + 40.3381259508089 i}) ^ 3 = 74$"
      ]
     },
     "metadata": {}
    },
    {
     "output_type": "display_data",
     "data": {
      "text/plain": [
       "<IPython.core.display.Math object>"
      ],
      "text/latex": [
       "$\\displaystyle \\text{-----}$"
      ]
     },
     "metadata": {}
    },
    {
     "output_type": "display_data",
     "data": {
      "text/plain": [
       "<IPython.core.display.Math object>"
      ],
      "text/latex": [
       "$\\displaystyle {37.68275892617411} ^ 3 + {0.009094178412260623} ^ 3 + ({-37.6651449405433}) ^ 3 = 75$"
      ]
     },
     "metadata": {}
    },
    {
     "output_type": "display_data",
     "data": {
      "text/plain": [
       "<IPython.core.display.Math object>"
      ],
      "text/latex": [
       "$\\displaystyle \\text{or}$"
      ]
     },
     "metadata": {}
    },
    {
     "output_type": "display_data",
     "data": {
      "text/plain": [
       "<IPython.core.display.Math object>"
      ],
      "text/latex": [
       "$\\displaystyle {37.68275892617411} ^ 3 + {0.009094178412260623} ^ 3 + ({18.8325724702716 - 32.6189723557334 i}) ^ 3 = 75$"
      ]
     },
     "metadata": {}
    },
    {
     "output_type": "display_data",
     "data": {
      "text/plain": [
       "<IPython.core.display.Math object>"
      ],
      "text/latex": [
       "$\\displaystyle \\text{or}$"
      ]
     },
     "metadata": {}
    },
    {
     "output_type": "display_data",
     "data": {
      "text/plain": [
       "<IPython.core.display.Math object>"
      ],
      "text/latex": [
       "$\\displaystyle {37.68275892617411} ^ 3 + {0.009094178412260623} ^ 3 + ({18.8325724702716 + 32.6189723557334 i}) ^ 3 = 75$"
      ]
     },
     "metadata": {}
    },
    {
     "output_type": "display_data",
     "data": {
      "text/plain": [
       "<IPython.core.display.Math object>"
      ],
      "text/latex": [
       "$\\displaystyle \\text{-----}$"
      ]
     },
     "metadata": {}
    },
    {
     "output_type": "display_data",
     "data": {
      "text/plain": [
       "<IPython.core.display.Math object>"
      ],
      "text/latex": [
       "$\\displaystyle {31.765927737306242} ^ 3 + {7.740144326434898} ^ 3 + ({-31.8934895537994}) ^ 3 = 76$"
      ]
     },
     "metadata": {}
    },
    {
     "output_type": "display_data",
     "data": {
      "text/plain": [
       "<IPython.core.display.Math object>"
      ],
      "text/latex": [
       "$\\displaystyle \\text{or}$"
      ]
     },
     "metadata": {}
    },
    {
     "output_type": "display_data",
     "data": {
      "text/plain": [
       "<IPython.core.display.Math object>"
      ],
      "text/latex": [
       "$\\displaystyle {31.765927737306242} ^ 3 + {7.740144326434898} ^ 3 + ({15.9467447768997 - 27.6205721689239 i}) ^ 3 = 76$"
      ]
     },
     "metadata": {}
    },
    {
     "output_type": "display_data",
     "data": {
      "text/plain": [
       "<IPython.core.display.Math object>"
      ],
      "text/latex": [
       "$\\displaystyle \\text{or}$"
      ]
     },
     "metadata": {}
    },
    {
     "output_type": "display_data",
     "data": {
      "text/plain": [
       "<IPython.core.display.Math object>"
      ],
      "text/latex": [
       "$\\displaystyle {31.765927737306242} ^ 3 + {7.740144326434898} ^ 3 + ({15.9467447768997 + 27.6205721689239 i}) ^ 3 = 76$"
      ]
     },
     "metadata": {}
    },
    {
     "output_type": "display_data",
     "data": {
      "text/plain": [
       "<IPython.core.display.Math object>"
      ],
      "text/latex": [
       "$\\displaystyle \\text{-----}$"
      ]
     },
     "metadata": {}
    },
    {
     "output_type": "display_data",
     "data": {
      "text/plain": [
       "<IPython.core.display.Math object>"
      ],
      "text/latex": [
       "$\\displaystyle {96.4288969664872} ^ 3 + {0.544660503433586} ^ 3 + ({-96.4261423876892}) ^ 3 = 77$"
      ]
     },
     "metadata": {}
    },
    {
     "output_type": "display_data",
     "data": {
      "text/plain": [
       "<IPython.core.display.Math object>"
      ],
      "text/latex": [
       "$\\displaystyle \\text{or}$"
      ]
     },
     "metadata": {}
    },
    {
     "output_type": "display_data",
     "data": {
      "text/plain": [
       "<IPython.core.display.Math object>"
      ],
      "text/latex": [
       "$\\displaystyle {96.4288969664872} ^ 3 + {0.544660503433586} ^ 3 + ({48.2130711938446 - 83.5074888966743 i}) ^ 3 = 77$"
      ]
     },
     "metadata": {}
    },
    {
     "output_type": "display_data",
     "data": {
      "text/plain": [
       "<IPython.core.display.Math object>"
      ],
      "text/latex": [
       "$\\displaystyle \\text{or}$"
      ]
     },
     "metadata": {}
    },
    {
     "output_type": "display_data",
     "data": {
      "text/plain": [
       "<IPython.core.display.Math object>"
      ],
      "text/latex": [
       "$\\displaystyle {96.4288969664872} ^ 3 + {0.544660503433586} ^ 3 + ({48.2130711938446 + 83.5074888966743 i}) ^ 3 = 77$"
      ]
     },
     "metadata": {}
    },
    {
     "output_type": "display_data",
     "data": {
      "text/plain": [
       "<IPython.core.display.Math object>"
      ],
      "text/latex": [
       "$\\displaystyle \\text{-----}$"
      ]
     },
     "metadata": {}
    },
    {
     "output_type": "display_data",
     "data": {
      "text/plain": [
       "<IPython.core.display.Math object>"
      ],
      "text/latex": [
       "$\\displaystyle {0.06112878942445277} ^ 3 + {0.0004929481191711388} ^ 3 + ({4.27265451088816}) ^ 3 = 78$"
      ]
     },
     "metadata": {}
    },
    {
     "output_type": "display_data",
     "data": {
      "text/plain": [
       "<IPython.core.display.Math object>"
      ],
      "text/latex": [
       "$\\displaystyle \\text{or}$"
      ]
     },
     "metadata": {}
    },
    {
     "output_type": "display_data",
     "data": {
      "text/plain": [
       "<IPython.core.display.Math object>"
      ],
      "text/latex": [
       "$\\displaystyle {0.06112878942445277} ^ 3 + {0.0004929481191711388} ^ 3 + ({-2.13632725544408 - 3.70022734802332 i}) ^ 3 = 78$"
      ]
     },
     "metadata": {}
    },
    {
     "output_type": "display_data",
     "data": {
      "text/plain": [
       "<IPython.core.display.Math object>"
      ],
      "text/latex": [
       "$\\displaystyle \\text{or}$"
      ]
     },
     "metadata": {}
    },
    {
     "output_type": "display_data",
     "data": {
      "text/plain": [
       "<IPython.core.display.Math object>"
      ],
      "text/latex": [
       "$\\displaystyle {0.06112878942445277} ^ 3 + {0.0004929481191711388} ^ 3 + ({-2.13632725544408 + 3.70022734802332 i}) ^ 3 = 78$"
      ]
     },
     "metadata": {}
    },
    {
     "output_type": "display_data",
     "data": {
      "text/plain": [
       "<IPython.core.display.Math object>"
      ],
      "text/latex": [
       "$\\displaystyle \\text{-----}$"
      ]
     },
     "metadata": {}
    },
    {
     "output_type": "display_data",
     "data": {
      "text/plain": [
       "<IPython.core.display.Math object>"
      ],
      "text/latex": [
       "$\\displaystyle {0.078720774215434} ^ 3 + {0.0003198250363531808} ^ 3 + ({4.29083159494587}) ^ 3 = 79$"
      ]
     },
     "metadata": {}
    },
    {
     "output_type": "display_data",
     "data": {
      "text/plain": [
       "<IPython.core.display.Math object>"
      ],
      "text/latex": [
       "$\\displaystyle \\text{or}$"
      ]
     },
     "metadata": {}
    },
    {
     "output_type": "display_data",
     "data": {
      "text/plain": [
       "<IPython.core.display.Math object>"
      ],
      "text/latex": [
       "$\\displaystyle {0.078720774215434} ^ 3 + {0.0003198250363531808} ^ 3 + ({-2.14541579747293 - 3.71596916458402 i}) ^ 3 = 79$"
      ]
     },
     "metadata": {}
    },
    {
     "output_type": "display_data",
     "data": {
      "text/plain": [
       "<IPython.core.display.Math object>"
      ],
      "text/latex": [
       "$\\displaystyle \\text{or}$"
      ]
     },
     "metadata": {}
    },
    {
     "output_type": "display_data",
     "data": {
      "text/plain": [
       "<IPython.core.display.Math object>"
      ],
      "text/latex": [
       "$\\displaystyle {0.078720774215434} ^ 3 + {0.0003198250363531808} ^ 3 + ({-2.14541579747293 + 3.71596916458402 i}) ^ 3 = 79$"
      ]
     },
     "metadata": {}
    },
    {
     "output_type": "display_data",
     "data": {
      "text/plain": [
       "<IPython.core.display.Math object>"
      ],
      "text/latex": [
       "$\\displaystyle \\text{-----}$"
      ]
     },
     "metadata": {}
    },
    {
     "output_type": "display_data",
     "data": {
      "text/plain": [
       "<IPython.core.display.Math object>"
      ],
      "text/latex": [
       "$\\displaystyle {1.650715689248412} ^ 3 + {0.005182868165764504} ^ 3 + ({4.22655187430717}) ^ 3 = 80$"
      ]
     },
     "metadata": {}
    },
    {
     "output_type": "display_data",
     "data": {
      "text/plain": [
       "<IPython.core.display.Math object>"
      ],
      "text/latex": [
       "$\\displaystyle \\text{or}$"
      ]
     },
     "metadata": {}
    },
    {
     "output_type": "display_data",
     "data": {
      "text/plain": [
       "<IPython.core.display.Math object>"
      ],
      "text/latex": [
       "$\\displaystyle {1.650715689248412} ^ 3 + {0.005182868165764504} ^ 3 + ({-2.11327593715359 - 3.66030129356275 i}) ^ 3 = 80$"
      ]
     },
     "metadata": {}
    },
    {
     "output_type": "display_data",
     "data": {
      "text/plain": [
       "<IPython.core.display.Math object>"
      ],
      "text/latex": [
       "$\\displaystyle \\text{or}$"
      ]
     },
     "metadata": {}
    },
    {
     "output_type": "display_data",
     "data": {
      "text/plain": [
       "<IPython.core.display.Math object>"
      ],
      "text/latex": [
       "$\\displaystyle {1.650715689248412} ^ 3 + {0.005182868165764504} ^ 3 + ({-2.11327593715359 + 3.66030129356275 i}) ^ 3 = 80$"
      ]
     },
     "metadata": {}
    },
    {
     "output_type": "display_data",
     "data": {
      "text/plain": [
       "<IPython.core.display.Math object>"
      ],
      "text/latex": [
       "$\\displaystyle \\text{-----}$"
      ]
     },
     "metadata": {}
    },
    {
     "output_type": "display_data",
     "data": {
      "text/plain": [
       "<IPython.core.display.Math object>"
      ],
      "text/latex": [
       "$\\displaystyle {0.0016975941932180693} ^ 3 + {0.00031092492140129957} ^ 3 + ({4.32674871092223}) ^ 3 = 81$"
      ]
     },
     "metadata": {}
    },
    {
     "output_type": "display_data",
     "data": {
      "text/plain": [
       "<IPython.core.display.Math object>"
      ],
      "text/latex": [
       "$\\displaystyle \\text{or}$"
      ]
     },
     "metadata": {}
    },
    {
     "output_type": "display_data",
     "data": {
      "text/plain": [
       "<IPython.core.display.Math object>"
      ],
      "text/latex": [
       "$\\displaystyle {0.0016975941932180693} ^ 3 + {0.00031092492140129957} ^ 3 + ({-2.16337435546111 - 3.74707429945022 i}) ^ 3 = 81$"
      ]
     },
     "metadata": {}
    },
    {
     "output_type": "display_data",
     "data": {
      "text/plain": [
       "<IPython.core.display.Math object>"
      ],
      "text/latex": [
       "$\\displaystyle \\text{or}$"
      ]
     },
     "metadata": {}
    },
    {
     "output_type": "display_data",
     "data": {
      "text/plain": [
       "<IPython.core.display.Math object>"
      ],
      "text/latex": [
       "$\\displaystyle {0.0016975941932180693} ^ 3 + {0.00031092492140129957} ^ 3 + ({-2.16337435546111 + 3.74707429945022 i}) ^ 3 = 81$"
      ]
     },
     "metadata": {}
    },
    {
     "output_type": "display_data",
     "data": {
      "text/plain": [
       "<IPython.core.display.Math object>"
      ],
      "text/latex": [
       "$\\displaystyle \\text{-----}$"
      ]
     },
     "metadata": {}
    },
    {
     "output_type": "display_data",
     "data": {
      "text/plain": [
       "<IPython.core.display.Math object>"
      ],
      "text/latex": [
       "$\\displaystyle {0.0009738251832864316} ^ 3 + {0.00030160087827948924} ^ 3 + ({4.34448148575182}) ^ 3 = 82$"
      ]
     },
     "metadata": {}
    },
    {
     "output_type": "display_data",
     "data": {
      "text/plain": [
       "<IPython.core.display.Math object>"
      ],
      "text/latex": [
       "$\\displaystyle \\text{or}$"
      ]
     },
     "metadata": {}
    },
    {
     "output_type": "display_data",
     "data": {
      "text/plain": [
       "<IPython.core.display.Math object>"
      ],
      "text/latex": [
       "$\\displaystyle {0.0009738251832864316} ^ 3 + {0.00030160087827948924} ^ 3 + ({-2.17224074287591 - 3.76243133293224 i}) ^ 3 = 82$"
      ]
     },
     "metadata": {}
    },
    {
     "output_type": "display_data",
     "data": {
      "text/plain": [
       "<IPython.core.display.Math object>"
      ],
      "text/latex": [
       "$\\displaystyle \\text{or}$"
      ]
     },
     "metadata": {}
    },
    {
     "output_type": "display_data",
     "data": {
      "text/plain": [
       "<IPython.core.display.Math object>"
      ],
      "text/latex": [
       "$\\displaystyle {0.0009738251832864316} ^ 3 + {0.00030160087827948924} ^ 3 + ({-2.17224074287591 + 3.76243133293224 i}) ^ 3 = 82$"
      ]
     },
     "metadata": {}
    },
    {
     "output_type": "display_data",
     "data": {
      "text/plain": [
       "<IPython.core.display.Math object>"
      ],
      "text/latex": [
       "$\\displaystyle \\text{-----}$"
      ]
     },
     "metadata": {}
    },
    {
     "output_type": "display_data",
     "data": {
      "text/plain": [
       "<IPython.core.display.Math object>"
      ],
      "text/latex": [
       "$\\displaystyle {0.0005058144883994148} ^ 3 + {2.449115491933529e-05} ^ 3 + ({4.36207067145257}) ^ 3 = 83$"
      ]
     },
     "metadata": {}
    },
    {
     "output_type": "display_data",
     "data": {
      "text/plain": [
       "<IPython.core.display.Math object>"
      ],
      "text/latex": [
       "$\\displaystyle \\text{or}$"
      ]
     },
     "metadata": {}
    },
    {
     "output_type": "display_data",
     "data": {
      "text/plain": [
       "<IPython.core.display.Math object>"
      ],
      "text/latex": [
       "$\\displaystyle {0.0005058144883994148} ^ 3 + {2.449115491933529e-05} ^ 3 + ({-2.18103533572629 - 3.77766401458097 i}) ^ 3 = 83$"
      ]
     },
     "metadata": {}
    },
    {
     "output_type": "display_data",
     "data": {
      "text/plain": [
       "<IPython.core.display.Math object>"
      ],
      "text/latex": [
       "$\\displaystyle \\text{or}$"
      ]
     },
     "metadata": {}
    },
    {
     "output_type": "display_data",
     "data": {
      "text/plain": [
       "<IPython.core.display.Math object>"
      ],
      "text/latex": [
       "$\\displaystyle {0.0005058144883994148} ^ 3 + {2.449115491933529e-05} ^ 3 + ({-2.18103533572629 + 3.77766401458097 i}) ^ 3 = 83$"
      ]
     },
     "metadata": {}
    },
    {
     "output_type": "display_data",
     "data": {
      "text/plain": [
       "<IPython.core.display.Math object>"
      ],
      "text/latex": [
       "$\\displaystyle \\text{-----}$"
      ]
     },
     "metadata": {}
    },
    {
     "output_type": "display_data",
     "data": {
      "text/plain": [
       "<IPython.core.display.Math object>"
      ],
      "text/latex": [
       "$\\displaystyle {70.59613626362157} ^ 3 + {0.009635898779909183} ^ 3 + ({-70.5905176298329}) ^ 3 = 84$"
      ]
     },
     "metadata": {}
    },
    {
     "output_type": "display_data",
     "data": {
      "text/plain": [
       "<IPython.core.display.Math object>"
      ],
      "text/latex": [
       "$\\displaystyle \\text{or}$"
      ]
     },
     "metadata": {}
    },
    {
     "output_type": "display_data",
     "data": {
      "text/plain": [
       "<IPython.core.display.Math object>"
      ],
      "text/latex": [
       "$\\displaystyle {70.59613626362157} ^ 3 + {0.009635898779909183} ^ 3 + ({35.2952588149165 - 61.1331815337286 i}) ^ 3 = 84$"
      ]
     },
     "metadata": {}
    },
    {
     "output_type": "display_data",
     "data": {
      "text/plain": [
       "<IPython.core.display.Math object>"
      ],
      "text/latex": [
       "$\\displaystyle \\text{or}$"
      ]
     },
     "metadata": {}
    },
    {
     "output_type": "display_data",
     "data": {
      "text/plain": [
       "<IPython.core.display.Math object>"
      ],
      "text/latex": [
       "$\\displaystyle {70.59613626362157} ^ 3 + {0.009635898779909183} ^ 3 + ({35.2952588149165 + 61.1331815337286 i}) ^ 3 = 84$"
      ]
     },
     "metadata": {}
    },
    {
     "output_type": "display_data",
     "data": {
      "text/plain": [
       "<IPython.core.display.Math object>"
      ],
      "text/latex": [
       "$\\displaystyle \\text{-----}$"
      ]
     },
     "metadata": {}
    },
    {
     "output_type": "display_data",
     "data": {
      "text/plain": [
       "<IPython.core.display.Math object>"
      ],
      "text/latex": [
       "$\\displaystyle {0.7854218532443151} ^ 3 + {0.15276661803259906} ^ 3 + ({4.3883977713713}) ^ 3 = 85$"
      ]
     },
     "metadata": {}
    },
    {
     "output_type": "display_data",
     "data": {
      "text/plain": [
       "<IPython.core.display.Math object>"
      ],
      "text/latex": [
       "$\\displaystyle \\text{or}$"
      ]
     },
     "metadata": {}
    },
    {
     "output_type": "display_data",
     "data": {
      "text/plain": [
       "<IPython.core.display.Math object>"
      ],
      "text/latex": [
       "$\\displaystyle {0.7854218532443151} ^ 3 + {0.15276661803259906} ^ 3 + ({-2.19419888568565 - 3.80046395191856 i}) ^ 3 = 85$"
      ]
     },
     "metadata": {}
    },
    {
     "output_type": "display_data",
     "data": {
      "text/plain": [
       "<IPython.core.display.Math object>"
      ],
      "text/latex": [
       "$\\displaystyle \\text{or}$"
      ]
     },
     "metadata": {}
    },
    {
     "output_type": "display_data",
     "data": {
      "text/plain": [
       "<IPython.core.display.Math object>"
      ],
      "text/latex": [
       "$\\displaystyle {0.7854218532443151} ^ 3 + {0.15276661803259906} ^ 3 + ({-2.19419888568565 + 3.80046395191856 i}) ^ 3 = 85$"
      ]
     },
     "metadata": {}
    },
    {
     "output_type": "display_data",
     "data": {
      "text/plain": [
       "<IPython.core.display.Math object>"
      ],
      "text/latex": [
       "$\\displaystyle \\text{-----}$"
      ]
     },
     "metadata": {}
    },
    {
     "output_type": "display_data",
     "data": {
      "text/plain": [
       "<IPython.core.display.Math object>"
      ],
      "text/latex": [
       "$\\displaystyle {5.477468749864115} ^ 3 + {3.571251026098455} ^ 3 + ({-4.98509959070673}) ^ 3 = 86$"
      ]
     },
     "metadata": {}
    },
    {
     "output_type": "display_data",
     "data": {
      "text/plain": [
       "<IPython.core.display.Math object>"
      ],
      "text/latex": [
       "$\\displaystyle \\text{or}$"
      ]
     },
     "metadata": {}
    },
    {
     "output_type": "display_data",
     "data": {
      "text/plain": [
       "<IPython.core.display.Math object>"
      ],
      "text/latex": [
       "$\\displaystyle {5.477468749864115} ^ 3 + {3.571251026098455} ^ 3 + ({2.49254979535337 - 4.31722288594744 i}) ^ 3 = 86$"
      ]
     },
     "metadata": {}
    },
    {
     "output_type": "display_data",
     "data": {
      "text/plain": [
       "<IPython.core.display.Math object>"
      ],
      "text/latex": [
       "$\\displaystyle \\text{or}$"
      ]
     },
     "metadata": {}
    },
    {
     "output_type": "display_data",
     "data": {
      "text/plain": [
       "<IPython.core.display.Math object>"
      ],
      "text/latex": [
       "$\\displaystyle {5.477468749864115} ^ 3 + {3.571251026098455} ^ 3 + ({2.49254979535337 + 4.31722288594744 i}) ^ 3 = 86$"
      ]
     },
     "metadata": {}
    },
    {
     "output_type": "display_data",
     "data": {
      "text/plain": [
       "<IPython.core.display.Math object>"
      ],
      "text/latex": [
       "$\\displaystyle \\text{-----}$"
      ]
     },
     "metadata": {}
    },
    {
     "output_type": "display_data",
     "data": {
      "text/plain": [
       "<IPython.core.display.Math object>"
      ],
      "text/latex": [
       "$\\displaystyle {0.9081125798043199} ^ 3 + {557.3623449919708} ^ 3 + ({-557.362252443712}) ^ 3 = 87$"
      ]
     },
     "metadata": {}
    },
    {
     "output_type": "display_data",
     "data": {
      "text/plain": [
       "<IPython.core.display.Math object>"
      ],
      "text/latex": [
       "$\\displaystyle \\text{or}$"
      ]
     },
     "metadata": {}
    },
    {
     "output_type": "display_data",
     "data": {
      "text/plain": [
       "<IPython.core.display.Math object>"
      ],
      "text/latex": [
       "$\\displaystyle {0.9081125798043199} ^ 3 + {557.3623449919708} ^ 3 + ({278.681126221856 - 482.68986972677 i}) ^ 3 = 87$"
      ]
     },
     "metadata": {}
    },
    {
     "output_type": "display_data",
     "data": {
      "text/plain": [
       "<IPython.core.display.Math object>"
      ],
      "text/latex": [
       "$\\displaystyle \\text{or}$"
      ]
     },
     "metadata": {}
    },
    {
     "output_type": "display_data",
     "data": {
      "text/plain": [
       "<IPython.core.display.Math object>"
      ],
      "text/latex": [
       "$\\displaystyle {0.9081125798043199} ^ 3 + {557.3623449919708} ^ 3 + ({278.681126221856 + 482.68986972677 i}) ^ 3 = 87$"
      ]
     },
     "metadata": {}
    },
    {
     "output_type": "display_data",
     "data": {
      "text/plain": [
       "<IPython.core.display.Math object>"
      ],
      "text/latex": [
       "$\\displaystyle \\text{-----}$"
      ]
     },
     "metadata": {}
    },
    {
     "output_type": "display_data",
     "data": {
      "text/plain": [
       "<IPython.core.display.Math object>"
      ],
      "text/latex": [
       "$\\displaystyle {499.256626810193} ^ 3 + {118.7385590333333} ^ 3 + ({-501.485299653409}) ^ 3 = 88$"
      ]
     },
     "metadata": {}
    },
    {
     "output_type": "display_data",
     "data": {
      "text/plain": [
       "<IPython.core.display.Math object>"
      ],
      "text/latex": [
       "$\\displaystyle \\text{or}$"
      ]
     },
     "metadata": {}
    },
    {
     "output_type": "display_data",
     "data": {
      "text/plain": [
       "<IPython.core.display.Math object>"
      ],
      "text/latex": [
       "$\\displaystyle {499.256626810193} ^ 3 + {118.7385590333333} ^ 3 + ({250.742649826704 - 434.299009124303 i}) ^ 3 = 88$"
      ]
     },
     "metadata": {}
    },
    {
     "output_type": "display_data",
     "data": {
      "text/plain": [
       "<IPython.core.display.Math object>"
      ],
      "text/latex": [
       "$\\displaystyle \\text{or}$"
      ]
     },
     "metadata": {}
    },
    {
     "output_type": "display_data",
     "data": {
      "text/plain": [
       "<IPython.core.display.Math object>"
      ],
      "text/latex": [
       "$\\displaystyle {499.256626810193} ^ 3 + {118.7385590333333} ^ 3 + ({250.742649826704 + 434.299009124303 i}) ^ 3 = 88$"
      ]
     },
     "metadata": {}
    },
    {
     "output_type": "display_data",
     "data": {
      "text/plain": [
       "<IPython.core.display.Math object>"
      ],
      "text/latex": [
       "$\\displaystyle \\text{-----}$"
      ]
     },
     "metadata": {}
    },
    {
     "output_type": "display_data",
     "data": {
      "text/plain": [
       "<IPython.core.display.Math object>"
      ],
      "text/latex": [
       "$\\displaystyle {214.34453659959672} ^ 3 + {0.00620046015434134} ^ 3 + ({-214.343890878133}) ^ 3 = 89$"
      ]
     },
     "metadata": {}
    },
    {
     "output_type": "display_data",
     "data": {
      "text/plain": [
       "<IPython.core.display.Math object>"
      ],
      "text/latex": [
       "$\\displaystyle \\text{or}$"
      ]
     },
     "metadata": {}
    },
    {
     "output_type": "display_data",
     "data": {
      "text/plain": [
       "<IPython.core.display.Math object>"
      ],
      "text/latex": [
       "$\\displaystyle {214.34453659959672} ^ 3 + {0.00620046015434134} ^ 3 + ({107.171945439067 - 185.627254646463 i}) ^ 3 = 89$"
      ]
     },
     "metadata": {}
    },
    {
     "output_type": "display_data",
     "data": {
      "text/plain": [
       "<IPython.core.display.Math object>"
      ],
      "text/latex": [
       "$\\displaystyle \\text{or}$"
      ]
     },
     "metadata": {}
    },
    {
     "output_type": "display_data",
     "data": {
      "text/plain": [
       "<IPython.core.display.Math object>"
      ],
      "text/latex": [
       "$\\displaystyle {214.34453659959672} ^ 3 + {0.00620046015434134} ^ 3 + ({107.171945439067 + 185.627254646463 i}) ^ 3 = 89$"
      ]
     },
     "metadata": {}
    },
    {
     "output_type": "display_data",
     "data": {
      "text/plain": [
       "<IPython.core.display.Math object>"
      ],
      "text/latex": [
       "$\\displaystyle \\text{-----}$"
      ]
     },
     "metadata": {}
    },
    {
     "output_type": "display_data",
     "data": {
      "text/plain": [
       "<IPython.core.display.Math object>"
      ],
      "text/latex": [
       "$\\displaystyle {0.742874887921018} ^ 3 + {0.00023303971201134134} ^ 3 + ({4.4745898692963}) ^ 3 = 90$"
      ]
     },
     "metadata": {}
    },
    {
     "output_type": "display_data",
     "data": {
      "text/plain": [
       "<IPython.core.display.Math object>"
      ],
      "text/latex": [
       "$\\displaystyle \\text{or}$"
      ]
     },
     "metadata": {}
    },
    {
     "output_type": "display_data",
     "data": {
      "text/plain": [
       "<IPython.core.display.Math object>"
      ],
      "text/latex": [
       "$\\displaystyle {0.742874887921018} ^ 3 + {0.00023303971201134134} ^ 3 + ({-2.23729493464815 - 3.87510849832709 i}) ^ 3 = 90$"
      ]
     },
     "metadata": {}
    },
    {
     "output_type": "display_data",
     "data": {
      "text/plain": [
       "<IPython.core.display.Math object>"
      ],
      "text/latex": [
       "$\\displaystyle \\text{or}$"
      ]
     },
     "metadata": {}
    },
    {
     "output_type": "display_data",
     "data": {
      "text/plain": [
       "<IPython.core.display.Math object>"
      ],
      "text/latex": [
       "$\\displaystyle {0.742874887921018} ^ 3 + {0.00023303971201134134} ^ 3 + ({-2.23729493464815 + 3.87510849832709 i}) ^ 3 = 90$"
      ]
     },
     "metadata": {}
    },
    {
     "output_type": "display_data",
     "data": {
      "text/plain": [
       "<IPython.core.display.Math object>"
      ],
      "text/latex": [
       "$\\displaystyle \\text{-----}$"
      ]
     },
     "metadata": {}
    },
    {
     "output_type": "display_data",
     "data": {
      "text/plain": [
       "<IPython.core.display.Math object>"
      ],
      "text/latex": [
       "$\\displaystyle {0.0005585546626171661} ^ 3 + {0.16046089320835555} ^ 3 + ({4.49787337376965}) ^ 3 = 91$"
      ]
     },
     "metadata": {}
    },
    {
     "output_type": "display_data",
     "data": {
      "text/plain": [
       "<IPython.core.display.Math object>"
      ],
      "text/latex": [
       "$\\displaystyle \\text{or}$"
      ]
     },
     "metadata": {}
    },
    {
     "output_type": "display_data",
     "data": {
      "text/plain": [
       "<IPython.core.display.Math object>"
      ],
      "text/latex": [
       "$\\displaystyle {0.0005585546626171661} ^ 3 + {0.16046089320835555} ^ 3 + ({-2.24893668688482 - 3.89527260469014 i}) ^ 3 = 91$"
      ]
     },
     "metadata": {}
    },
    {
     "output_type": "display_data",
     "data": {
      "text/plain": [
       "<IPython.core.display.Math object>"
      ],
      "text/latex": [
       "$\\displaystyle \\text{or}$"
      ]
     },
     "metadata": {}
    },
    {
     "output_type": "display_data",
     "data": {
      "text/plain": [
       "<IPython.core.display.Math object>"
      ],
      "text/latex": [
       "$\\displaystyle {0.0005585546626171661} ^ 3 + {0.16046089320835555} ^ 3 + ({-2.24893668688482 + 3.89527260469014 i}) ^ 3 = 91$"
      ]
     },
     "metadata": {}
    },
    {
     "output_type": "display_data",
     "data": {
      "text/plain": [
       "<IPython.core.display.Math object>"
      ],
      "text/latex": [
       "$\\displaystyle \\text{-----}$"
      ]
     },
     "metadata": {}
    },
    {
     "output_type": "display_data",
     "data": {
      "text/plain": [
       "<IPython.core.display.Math object>"
      ],
      "text/latex": [
       "$\\displaystyle {0.0006521956208823009} ^ 3 + {0.04497441246548121} ^ 3 + ({4.51435594753604}) ^ 3 = 92$"
      ]
     },
     "metadata": {}
    },
    {
     "output_type": "display_data",
     "data": {
      "text/plain": [
       "<IPython.core.display.Math object>"
      ],
      "text/latex": [
       "$\\displaystyle \\text{or}$"
      ]
     },
     "metadata": {}
    },
    {
     "output_type": "display_data",
     "data": {
      "text/plain": [
       "<IPython.core.display.Math object>"
      ],
      "text/latex": [
       "$\\displaystyle {0.0006521956208823009} ^ 3 + {0.04497441246548121} ^ 3 + ({-2.25717797376802 - 3.90954693229158 i}) ^ 3 = 92$"
      ]
     },
     "metadata": {}
    },
    {
     "output_type": "display_data",
     "data": {
      "text/plain": [
       "<IPython.core.display.Math object>"
      ],
      "text/latex": [
       "$\\displaystyle \\text{or}$"
      ]
     },
     "metadata": {}
    },
    {
     "output_type": "display_data",
     "data": {
      "text/plain": [
       "<IPython.core.display.Math object>"
      ],
      "text/latex": [
       "$\\displaystyle {0.0006521956208823009} ^ 3 + {0.04497441246548121} ^ 3 + ({-2.25717797376802 + 3.90954693229158 i}) ^ 3 = 92$"
      ]
     },
     "metadata": {}
    },
    {
     "output_type": "display_data",
     "data": {
      "text/plain": [
       "<IPython.core.display.Math object>"
      ],
      "text/latex": [
       "$\\displaystyle \\text{-----}$"
      ]
     },
     "metadata": {}
    },
    {
     "output_type": "display_data",
     "data": {
      "text/plain": [
       "<IPython.core.display.Math object>"
      ],
      "text/latex": [
       "$\\displaystyle {42.045774292904106} ^ 3 + {20.853601442647186} ^ 3 + ({-43.6742757103349}) ^ 3 = 93$"
      ]
     },
     "metadata": {}
    },
    {
     "output_type": "display_data",
     "data": {
      "text/plain": [
       "<IPython.core.display.Math object>"
      ],
      "text/latex": [
       "$\\displaystyle \\text{or}$"
      ]
     },
     "metadata": {}
    },
    {
     "output_type": "display_data",
     "data": {
      "text/plain": [
       "<IPython.core.display.Math object>"
      ],
      "text/latex": [
       "$\\displaystyle {42.045774292904106} ^ 3 + {20.853601442647186} ^ 3 + ({21.8371378551675 - 37.8230322570357 i}) ^ 3 = 93$"
      ]
     },
     "metadata": {}
    },
    {
     "output_type": "display_data",
     "data": {
      "text/plain": [
       "<IPython.core.display.Math object>"
      ],
      "text/latex": [
       "$\\displaystyle \\text{or}$"
      ]
     },
     "metadata": {}
    },
    {
     "output_type": "display_data",
     "data": {
      "text/plain": [
       "<IPython.core.display.Math object>"
      ],
      "text/latex": [
       "$\\displaystyle {42.045774292904106} ^ 3 + {20.853601442647186} ^ 3 + ({21.8371378551675 + 37.8230322570357 i}) ^ 3 = 93$"
      ]
     },
     "metadata": {}
    },
    {
     "output_type": "display_data",
     "data": {
      "text/plain": [
       "<IPython.core.display.Math object>"
      ],
      "text/latex": [
       "$\\displaystyle \\text{-----}$"
      ]
     },
     "metadata": {}
    },
    {
     "output_type": "display_data",
     "data": {
      "text/plain": [
       "<IPython.core.display.Math object>"
      ],
      "text/latex": [
       "$\\displaystyle {0.002181819107251557} ^ 3 + {0.026981063162202692} ^ 3 + ({4.54683562691667}) ^ 3 = 94$"
      ]
     },
     "metadata": {}
    },
    {
     "output_type": "display_data",
     "data": {
      "text/plain": [
       "<IPython.core.display.Math object>"
      ],
      "text/latex": [
       "$\\displaystyle \\text{or}$"
      ]
     },
     "metadata": {}
    },
    {
     "output_type": "display_data",
     "data": {
      "text/plain": [
       "<IPython.core.display.Math object>"
      ],
      "text/latex": [
       "$\\displaystyle {0.002181819107251557} ^ 3 + {0.026981063162202692} ^ 3 + ({-2.27341781345834 - 3.93767515974198 i}) ^ 3 = 94$"
      ]
     },
     "metadata": {}
    },
    {
     "output_type": "display_data",
     "data": {
      "text/plain": [
       "<IPython.core.display.Math object>"
      ],
      "text/latex": [
       "$\\displaystyle \\text{or}$"
      ]
     },
     "metadata": {}
    },
    {
     "output_type": "display_data",
     "data": {
      "text/plain": [
       "<IPython.core.display.Math object>"
      ],
      "text/latex": [
       "$\\displaystyle {0.002181819107251557} ^ 3 + {0.026981063162202692} ^ 3 + ({-2.27341781345834 + 3.93767515974198 i}) ^ 3 = 94$"
      ]
     },
     "metadata": {}
    },
    {
     "output_type": "display_data",
     "data": {
      "text/plain": [
       "<IPython.core.display.Math object>"
      ],
      "text/latex": [
       "$\\displaystyle \\text{-----}$"
      ]
     },
     "metadata": {}
    },
    {
     "output_type": "display_data",
     "data": {
      "text/plain": [
       "<IPython.core.display.Math object>"
      ],
      "text/latex": [
       "$\\displaystyle {97.6281606715695} ^ 3 + {64.38377643222948} ^ 3 + ({-106.186462582592}) ^ 3 = 95$"
      ]
     },
     "metadata": {}
    },
    {
     "output_type": "display_data",
     "data": {
      "text/plain": [
       "<IPython.core.display.Math object>"
      ],
      "text/latex": [
       "$\\displaystyle \\text{or}$"
      ]
     },
     "metadata": {}
    },
    {
     "output_type": "display_data",
     "data": {
      "text/plain": [
       "<IPython.core.display.Math object>"
      ],
      "text/latex": [
       "$\\displaystyle {97.6281606715695} ^ 3 + {64.38377643222948} ^ 3 + ({53.0932312912959 - 91.9601741345303 i}) ^ 3 = 95$"
      ]
     },
     "metadata": {}
    },
    {
     "output_type": "display_data",
     "data": {
      "text/plain": [
       "<IPython.core.display.Math object>"
      ],
      "text/latex": [
       "$\\displaystyle \\text{or}$"
      ]
     },
     "metadata": {}
    },
    {
     "output_type": "display_data",
     "data": {
      "text/plain": [
       "<IPython.core.display.Math object>"
      ],
      "text/latex": [
       "$\\displaystyle {97.6281606715695} ^ 3 + {64.38377643222948} ^ 3 + ({53.0932312912959 + 91.9601741345303 i}) ^ 3 = 95$"
      ]
     },
     "metadata": {}
    },
    {
     "output_type": "display_data",
     "data": {
      "text/plain": [
       "<IPython.core.display.Math object>"
      ],
      "text/latex": [
       "$\\displaystyle \\text{-----}$"
      ]
     },
     "metadata": {}
    },
    {
     "output_type": "display_data",
     "data": {
      "text/plain": [
       "<IPython.core.display.Math object>"
      ],
      "text/latex": [
       "$\\displaystyle {6.135995200024342} ^ 3 + {926.9260372628744} ^ 3 + ({-926.926089646553}) ^ 3 = 96$"
      ]
     },
     "metadata": {}
    },
    {
     "output_type": "display_data",
     "data": {
      "text/plain": [
       "<IPython.core.display.Math object>"
      ],
      "text/latex": [
       "$\\displaystyle \\text{or}$"
      ]
     },
     "metadata": {}
    },
    {
     "output_type": "display_data",
     "data": {
      "text/plain": [
       "<IPython.core.display.Math object>"
      ],
      "text/latex": [
       "$\\displaystyle {6.135995200024342} ^ 3 + {926.9260372628744} ^ 3 + ({463.463044823276 - 802.741541064487 i}) ^ 3 = 96$"
      ]
     },
     "metadata": {}
    },
    {
     "output_type": "display_data",
     "data": {
      "text/plain": [
       "<IPython.core.display.Math object>"
      ],
      "text/latex": [
       "$\\displaystyle \\text{or}$"
      ]
     },
     "metadata": {}
    },
    {
     "output_type": "display_data",
     "data": {
      "text/plain": [
       "<IPython.core.display.Math object>"
      ],
      "text/latex": [
       "$\\displaystyle {6.135995200024342} ^ 3 + {926.9260372628744} ^ 3 + ({463.463044823276 + 802.741541064487 i}) ^ 3 = 96$"
      ]
     },
     "metadata": {}
    },
    {
     "output_type": "display_data",
     "data": {
      "text/plain": [
       "<IPython.core.display.Math object>"
      ],
      "text/latex": [
       "$\\displaystyle \\text{-----}$"
      ]
     },
     "metadata": {}
    },
    {
     "output_type": "display_data",
     "data": {
      "text/plain": [
       "<IPython.core.display.Math object>"
      ],
      "text/latex": [
       "$\\displaystyle {0.42128129448326557} ^ 3 + {0.13026996680055936} ^ 3 + ({4.5934851245643}) ^ 3 = 97$"
      ]
     },
     "metadata": {}
    },
    {
     "output_type": "display_data",
     "data": {
      "text/plain": [
       "<IPython.core.display.Math object>"
      ],
      "text/latex": [
       "$\\displaystyle \\text{or}$"
      ]
     },
     "metadata": {}
    },
    {
     "output_type": "display_data",
     "data": {
      "text/plain": [
       "<IPython.core.display.Math object>"
      ],
      "text/latex": [
       "$\\displaystyle {0.42128129448326557} ^ 3 + {0.13026996680055936} ^ 3 + ({-2.29674256228215 - 3.97807480977861 i}) ^ 3 = 97$"
      ]
     },
     "metadata": {}
    },
    {
     "output_type": "display_data",
     "data": {
      "text/plain": [
       "<IPython.core.display.Math object>"
      ],
      "text/latex": [
       "$\\displaystyle \\text{or}$"
      ]
     },
     "metadata": {}
    },
    {
     "output_type": "display_data",
     "data": {
      "text/plain": [
       "<IPython.core.display.Math object>"
      ],
      "text/latex": [
       "$\\displaystyle {0.42128129448326557} ^ 3 + {0.13026996680055936} ^ 3 + ({-2.29674256228215 + 3.97807480977861 i}) ^ 3 = 97$"
      ]
     },
     "metadata": {}
    },
    {
     "output_type": "display_data",
     "data": {
      "text/plain": [
       "<IPython.core.display.Math object>"
      ],
      "text/latex": [
       "$\\displaystyle \\text{-----}$"
      ]
     },
     "metadata": {}
    },
    {
     "output_type": "display_data",
     "data": {
      "text/plain": [
       "<IPython.core.display.Math object>"
      ],
      "text/latex": [
       "$\\displaystyle {0.09320530521817846} ^ 3 + {0.005589780455387334} ^ 3 + ({4.61042359183214}) ^ 3 = 98$"
      ]
     },
     "metadata": {}
    },
    {
     "output_type": "display_data",
     "data": {
      "text/plain": [
       "<IPython.core.display.Math object>"
      ],
      "text/latex": [
       "$\\displaystyle \\text{or}$"
      ]
     },
     "metadata": {}
    },
    {
     "output_type": "display_data",
     "data": {
      "text/plain": [
       "<IPython.core.display.Math object>"
      ],
      "text/latex": [
       "$\\displaystyle {0.09320530521817846} ^ 3 + {0.005589780455387334} ^ 3 + ({-2.30521179591607 - 3.99274395273373 i}) ^ 3 = 98$"
      ]
     },
     "metadata": {}
    },
    {
     "output_type": "display_data",
     "data": {
      "text/plain": [
       "<IPython.core.display.Math object>"
      ],
      "text/latex": [
       "$\\displaystyle \\text{or}$"
      ]
     },
     "metadata": {}
    },
    {
     "output_type": "display_data",
     "data": {
      "text/plain": [
       "<IPython.core.display.Math object>"
      ],
      "text/latex": [
       "$\\displaystyle {0.09320530521817846} ^ 3 + {0.005589780455387334} ^ 3 + ({-2.30521179591607 + 3.99274395273373 i}) ^ 3 = 98$"
      ]
     },
     "metadata": {}
    },
    {
     "output_type": "display_data",
     "data": {
      "text/plain": [
       "<IPython.core.display.Math object>"
      ],
      "text/latex": [
       "$\\displaystyle \\text{-----}$"
      ]
     },
     "metadata": {}
    },
    {
     "output_type": "display_data",
     "data": {
      "text/plain": [
       "<IPython.core.display.Math object>"
      ],
      "text/latex": [
       "$\\displaystyle {0.000490387081249828} ^ 3 + {3.148708711566428} ^ 3 + ({4.0772996451674}) ^ 3 = 99$"
      ]
     },
     "metadata": {}
    },
    {
     "output_type": "display_data",
     "data": {
      "text/plain": [
       "<IPython.core.display.Math object>"
      ],
      "text/latex": [
       "$\\displaystyle \\text{or}$"
      ]
     },
     "metadata": {}
    },
    {
     "output_type": "display_data",
     "data": {
      "text/plain": [
       "<IPython.core.display.Math object>"
      ],
      "text/latex": [
       "$\\displaystyle {0.000490387081249828} ^ 3 + {3.148708711566428} ^ 3 + ({-2.0386498225837 - 3.53104507155625 i}) ^ 3 = 99$"
      ]
     },
     "metadata": {}
    },
    {
     "output_type": "display_data",
     "data": {
      "text/plain": [
       "<IPython.core.display.Math object>"
      ],
      "text/latex": [
       "$\\displaystyle \\text{or}$"
      ]
     },
     "metadata": {}
    },
    {
     "output_type": "display_data",
     "data": {
      "text/plain": [
       "<IPython.core.display.Math object>"
      ],
      "text/latex": [
       "$\\displaystyle {0.000490387081249828} ^ 3 + {3.148708711566428} ^ 3 + ({-2.0386498225837 + 3.53104507155625 i}) ^ 3 = 99$"
      ]
     },
     "metadata": {}
    },
    {
     "output_type": "display_data",
     "data": {
      "text/plain": [
       "<IPython.core.display.Math object>"
      ],
      "text/latex": [
       "$\\displaystyle \\text{-----}$"
      ]
     },
     "metadata": {}
    },
    {
     "output_type": "display_data",
     "data": {
      "text/plain": [
       "<IPython.core.display.Math object>"
      ],
      "text/latex": [
       "$\\displaystyle {0.0007930220809306904} ^ 3 + {8.471559580748163} ^ 3 + ({-7.97901344154317}) ^ 3 = 100$"
      ]
     },
     "metadata": {}
    },
    {
     "output_type": "display_data",
     "data": {
      "text/plain": [
       "<IPython.core.display.Math object>"
      ],
      "text/latex": [
       "$\\displaystyle \\text{or}$"
      ]
     },
     "metadata": {}
    },
    {
     "output_type": "display_data",
     "data": {
      "text/plain": [
       "<IPython.core.display.Math object>"
      ],
      "text/latex": [
       "$\\displaystyle {0.0007930220809306904} ^ 3 + {8.471559580748163} ^ 3 + ({3.98950672077159 - 6.91002833751389 i}) ^ 3 = 100$"
      ]
     },
     "metadata": {}
    },
    {
     "output_type": "display_data",
     "data": {
      "text/plain": [
       "<IPython.core.display.Math object>"
      ],
      "text/latex": [
       "$\\displaystyle \\text{or}$"
      ]
     },
     "metadata": {}
    },
    {
     "output_type": "display_data",
     "data": {
      "text/plain": [
       "<IPython.core.display.Math object>"
      ],
      "text/latex": [
       "$\\displaystyle {0.0007930220809306904} ^ 3 + {8.471559580748163} ^ 3 + ({3.98950672077159 + 6.91002833751389 i}) ^ 3 = 100$"
      ]
     },
     "metadata": {}
    }
   ],
   "metadata": {}
  },
  {
   "cell_type": "code",
   "execution_count": null,
   "source": [],
   "outputs": [],
   "metadata": {}
  }
 ],
 "metadata": {
  "orig_nbformat": 4,
  "language_info": {
   "name": "python"
  }
 },
 "nbformat": 4,
 "nbformat_minor": 2
}